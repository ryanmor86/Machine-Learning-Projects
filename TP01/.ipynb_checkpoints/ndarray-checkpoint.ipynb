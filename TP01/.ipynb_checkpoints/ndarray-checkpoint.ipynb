{
 "cells": [
  {
   "cell_type": "markdown",
   "metadata": {},
   "source": [
    "# NDArray - Imperative tensor operations on CPU/GPU\n",
    "\n",
    "In _MXNet_, `NDArray` is the core data structure for all mathematical\n",
    "computations.  An `NDArray` represents a multidimensional, fixed-size homogenous\n",
    "array.  If you're familiar with the scientific computing python package\n",
    "[NumPy](http://www.numpy.org/), you might notice that `mxnet.ndarray` is similar\n",
    "to `numpy.ndarray`.  Like the corresponding NumPy data structure, MXNet's\n",
    "`NDArray` enables imperative computation.\n",
    "\n",
    "So you might wonder, why not just use NumPy?  MXNet offers two compelling\n",
    "advantages.  First, MXNet's `NDArray` supports fast execution on a wide range of\n",
    "hardware configurations, including CPU, GPU, and multi-GPU machines.  _MXNet_\n",
    "also scales to distributed systems in the cloud.  Second, MXNet's `NDArray`\n",
    "executes code lazily, allowing it to automatically parallelize multiple\n",
    "operations across the available hardware.\n",
    "\n",
    "An `NDArray` is a multidimensional array of numbers with the same type.  We\n",
    "could represent the coordinates of a point in 3D space, e.g. `[2, 1, 6]` as a 1D\n",
    "array with shape (3).  Similarly, we could represent a 2D array.  Below, we\n",
    "present an array with length 2 along the first axis and length 3 along the\n",
    "second axis.\n",
    "```\n",
    "[[0, 1, 2]\n",
    " [3, 4, 5]]\n",
    "```\n",
    "Note that here the use of \"dimension\" is overloaded.  When we say a 2D array, we\n",
    "mean an array with 2 axes, not an array with two components.\n",
    "\n",
    "Each NDArray supports some important attributes that you'll often want to query:\n",
    "\n",
    "- **ndarray.shape**: The dimensions of the array. It is a tuple of integers\n",
    "  indicating the length of the array along each axis. For a matrix with `n` rows\n",
    "  and `m` columns, its `shape` will be `(n, m)`.\n",
    "- **ndarray.dtype**: A `numpy` _type_ object describing the type of its\n",
    "  elements.\n",
    "- **ndarray.size**: The total number of components in the array - equal to the\n",
    "  product of the components of its `shape`\n",
    "- **ndarray.context**: The device on which this array is stored, e.g. `cpu()` or\n",
    "  `gpu(1)`.\n",
    "\n",
    "## Prerequisites\n",
    "\n",
    "To complete this tutorial, we need:\n",
    "\n",
    "- MXNet. See the instructions for your operating system in [Setup and Installation](http://mxnet.io/install/index.html)\n",
    "- [Jupyter](http://jupyter.org/)\n",
    "    ```\n",
    "    pip install jupyter\n",
    "    ```\n",
    "- GPUs - A section of this tutorial uses GPUs. If you don't have GPUs on your\n",
    "machine, simply set the variable gpu_device (set in the GPUs section of this \n",
    "tutorial) to mx.cpu().\n",
    "\n",
    "## Array Creation\n",
    "\n",
    "There are a few different ways to create an `NDArray`.\n",
    "\n",
    "* We can create an NDArray from a regular Python list or tuple by using the `array` function:"
   ]
  },
  {
   "cell_type": "code",
   "execution_count": 1,
   "metadata": {},
   "outputs": [
    {
     "data": {
      "text/plain": [
       "{'a.shape': (3,), 'b.shape': (2, 3)}"
      ]
     },
     "execution_count": 1,
     "metadata": {},
     "output_type": "execute_result"
    }
   ],
   "source": [
    "import mxnet as mx\n",
    "# create a 1-dimensional array with a python list\n",
    "a = mx.nd.array([1,2,3])\n",
    "# create a 2-dimensional array with a nested python list\n",
    "b = mx.nd.array([[1,2,3], [2,3,4]])\n",
    "{'a.shape':a.shape, 'b.shape':b.shape}"
   ]
  },
  {
   "cell_type": "markdown",
   "metadata": {},
   "source": [
    "* We can also create an MXNet NDArray from a `numpy.ndarray` object:"
   ]
  },
  {
   "cell_type": "code",
   "execution_count": 2,
   "metadata": {},
   "outputs": [
    {
     "data": {
      "text/plain": [
       "{'a.shape': (3, 5)}"
      ]
     },
     "execution_count": 2,
     "metadata": {},
     "output_type": "execute_result"
    }
   ],
   "source": [
    "import numpy as np\n",
    "import math\n",
    "c = np.arange(15).reshape(3,5)\n",
    "# create a 2-dimensional array from a numpy.ndarray object\n",
    "a = mx.nd.array(c)\n",
    "{'a.shape':a.shape}"
   ]
  },
  {
   "cell_type": "markdown",
   "metadata": {},
   "source": [
    "We can specify the element type with the option `dtype`, which accepts a numpy\n",
    "type. By default, `float32` is used:"
   ]
  },
  {
   "cell_type": "code",
   "execution_count": 3,
   "metadata": {},
   "outputs": [
    {
     "data": {
      "text/plain": [
       "(numpy.float32, numpy.int32, numpy.float16)"
      ]
     },
     "execution_count": 3,
     "metadata": {},
     "output_type": "execute_result"
    }
   ],
   "source": [
    "# float32 is used by default\n",
    "a = mx.nd.array([1,2,3])\n",
    "# create an int32 array\n",
    "b = mx.nd.array([1,2,3], dtype=np.int32)\n",
    "# create a 16-bit float array\n",
    "c = mx.nd.array([1.2, 2.3], dtype=np.float16)\n",
    "(a.dtype, b.dtype, c.dtype)"
   ]
  },
  {
   "cell_type": "markdown",
   "metadata": {},
   "source": [
    "If we know the size of the desired NDArray, but not the element values, MXNet\n",
    "offers several functions to create arrays with placeholder content:"
   ]
  },
  {
   "cell_type": "code",
   "execution_count": 4,
   "metadata": {},
   "outputs": [],
   "source": [
    "# create a 2-dimensional array full of zeros with shape (2,3)\n",
    "a = mx.nd.zeros((2,3))\n",
    "# create a same shape array full of ones\n",
    "b = mx.nd.ones((2,3))\n",
    "# create a same shape array with all elements set to 7\n",
    "c = mx.nd.full((2,3), 7)\n",
    "# create a same shape whose initial content is random and\n",
    "# depends on the state of the memory\n",
    "d = mx.nd.empty((2,3))"
   ]
  },
  {
   "cell_type": "markdown",
   "metadata": {},
   "source": [
    "## Printing Arrays\n",
    "\n",
    "When inspecting the contents of an `NDArray`, it's often convenient to first\n",
    "extract its contents as a `numpy.ndarray` using the `asnumpy` function.  Numpy\n",
    "uses the following layout:\n",
    "\n",
    "- The last axis is printed from left to right,\n",
    "- The second-to-last is printed from top to bottom,\n",
    "- The rest are also printed from top to bottom, with each slice separated from\n",
    "  the next by an empty line."
   ]
  },
  {
   "cell_type": "code",
   "execution_count": null,
   "metadata": {},
   "outputs": [],
   "source": [
    "b = mx.nd.arange(18).reshape((3,2,3))\n",
    "b.asnumpy()"
   ]
  },
  {
   "cell_type": "markdown",
   "metadata": {},
   "source": [
    "## Basic Operations\n",
    "\n",
    "When applied to NDArrays, the standard arithmetic operators apply *elementwise*\n",
    "calculations. The returned value is a new array whose content contains the\n",
    "result."
   ]
  },
  {
   "cell_type": "code",
   "execution_count": null,
   "metadata": {},
   "outputs": [],
   "source": [
    "a = mx.nd.ones((2,3))\n",
    "b = mx.nd.ones((2,3))\n",
    "# elementwise plus\n",
    "c = a + b\n",
    "# elementwise minus\n",
    "d = - c\n",
    "# elementwise pow and sin, and then transpose\n",
    "e = mx.nd.sin(c**2).T\n",
    "# elementwise max\n",
    "f = mx.nd.maximum(a, c)\n",
    "f.asnumpy()"
   ]
  },
  {
   "cell_type": "markdown",
   "metadata": {},
   "source": [
    "As in `NumPy`, `*` represents element-wise multiplication. For matrix-matrix\n",
    "multiplication, use `dot`."
   ]
  },
  {
   "cell_type": "code",
   "execution_count": null,
   "metadata": {},
   "outputs": [],
   "source": [
    "a = mx.nd.arange(4).reshape((2,2))\n",
    "b = a * a\n",
    "c = mx.nd.dot(a,a)\n",
    "print(\"b: %s, \\n c: %s\" % (b.asnumpy(), c.asnumpy()))"
   ]
  },
  {
   "cell_type": "markdown",
   "metadata": {},
   "source": [
    "The assignment operators such as `+=` and `*=` modify arrays in place, and thus\n",
    "don't allocate new memory to create a new array."
   ]
  },
  {
   "cell_type": "code",
   "execution_count": null,
   "metadata": {},
   "outputs": [],
   "source": [
    "a = mx.nd.ones((2,2))\n",
    "b = mx.nd.ones(a.shape)\n",
    "b += a\n",
    "b.asnumpy()"
   ]
  },
  {
   "cell_type": "markdown",
   "metadata": {},
   "source": [
    "## Indexing and Slicing\n",
    "\n",
    "The slice operator `[]` applies on axis 0."
   ]
  },
  {
   "cell_type": "code",
   "execution_count": null,
   "metadata": {},
   "outputs": [],
   "source": [
    "a = mx.nd.array(np.arange(6).reshape(3,2))\n",
    "a[1:2] = 1\n",
    "a[:].asnumpy()"
   ]
  },
  {
   "cell_type": "markdown",
   "metadata": {},
   "source": [
    "We can also slice a particular axis with the method `slice_axis`"
   ]
  },
  {
   "cell_type": "code",
   "execution_count": null,
   "metadata": {},
   "outputs": [],
   "source": [
    "d = mx.nd.slice_axis(a, axis=1, begin=1, end=2)\n",
    "d.asnumpy()"
   ]
  },
  {
   "cell_type": "markdown",
   "metadata": {},
   "source": [
    "## Shape Manipulation\n",
    "\n",
    "Using `reshape`, we can manipulate any arrays shape as long as the size remains\n",
    "unchanged."
   ]
  },
  {
   "cell_type": "code",
   "execution_count": null,
   "metadata": {},
   "outputs": [],
   "source": [
    "a = mx.nd.array(np.arange(24))\n",
    "b = a.reshape((2,3,4))\n",
    "b.asnumpy()"
   ]
  },
  {
   "cell_type": "markdown",
   "metadata": {},
   "source": [
    "The `concat` method stacks multiple arrays along the first axis. Their\n",
    "shapes must be the same along the other axes."
   ]
  },
  {
   "cell_type": "code",
   "execution_count": null,
   "metadata": {},
   "outputs": [],
   "source": [
    "a = mx.nd.ones((2,3))\n",
    "b = mx.nd.ones((2,3))*2\n",
    "c = mx.nd.concat(a,b)\n",
    "c.asnumpy()"
   ]
  },
  {
   "cell_type": "markdown",
   "metadata": {},
   "source": [
    "## Reduce\n",
    "\n",
    "Some functions, like `sum` and `mean` reduce arrays to scalars."
   ]
  },
  {
   "cell_type": "code",
   "execution_count": null,
   "metadata": {},
   "outputs": [],
   "source": [
    "a = mx.nd.ones((2,3))\n",
    "b = mx.nd.sum(a)\n",
    "b.asnumpy()"
   ]
  },
  {
   "cell_type": "markdown",
   "metadata": {},
   "source": [
    "We can also reduce an array along a particular axis:"
   ]
  },
  {
   "cell_type": "code",
   "execution_count": null,
   "metadata": {},
   "outputs": [],
   "source": [
    "c = mx.nd.sum_axis(a, axis=1)\n",
    "c.asnumpy()"
   ]
  },
  {
   "cell_type": "markdown",
   "metadata": {},
   "source": [
    "## Broadcast\n",
    "\n",
    "We can also broadcast an array. Broadcasting operations, duplicate an array's\n",
    "value along an axis with length 1. The following code broadcasts along axis 1:"
   ]
  },
  {
   "cell_type": "code",
   "execution_count": null,
   "metadata": {},
   "outputs": [],
   "source": [
    "a = mx.nd.array(np.arange(6).reshape(6,1))\n",
    "b = a.broadcast_to((6,4))  #\n",
    "b.asnumpy()"
   ]
  },
  {
   "cell_type": "markdown",
   "metadata": {},
   "source": [
    "It's possible to simultaneously broadcast along multiple axes. In the following example, we broadcast along axes 1 and 2:"
   ]
  },
  {
   "cell_type": "code",
   "execution_count": null,
   "metadata": {},
   "outputs": [],
   "source": [
    "c = a.reshape((2,1,1,3))\n",
    "d = c.broadcast_to((2,2,2,3))\n",
    "d.asnumpy()"
   ]
  },
  {
   "cell_type": "markdown",
   "metadata": {},
   "source": [
    "Broadcasting can be applied automatically when executing some operations,\n",
    "e.g. `*` and `+` on arrays of different shapes."
   ]
  },
  {
   "cell_type": "code",
   "execution_count": null,
   "metadata": {},
   "outputs": [],
   "source": [
    "a = mx.nd.ones((3,2))\n",
    "b = mx.nd.ones((1,2))\n",
    "c = a + b\n",
    "c.asnumpy()"
   ]
  },
  {
   "cell_type": "markdown",
   "metadata": {},
   "source": [
    "## Copies\n",
    "\n",
    "When assigning an NDArray to another Python variable, we copy a reference to the\n",
    "*same* NDArray. However, we often need to make a copy of the data, so that we\n",
    "can manipulate the new array without overwriting the original values."
   ]
  },
  {
   "cell_type": "code",
   "execution_count": null,
   "metadata": {},
   "outputs": [],
   "source": [
    "a = mx.nd.ones((2,2))\n",
    "b = a\n",
    "b is a # will be True"
   ]
  },
  {
   "cell_type": "markdown",
   "metadata": {},
   "source": [
    "The `copy` method makes a deep copy of the array and its data:"
   ]
  },
  {
   "cell_type": "code",
   "execution_count": null,
   "metadata": {},
   "outputs": [],
   "source": [
    "b = a.copy()\n",
    "b is a  # will be False"
   ]
  },
  {
   "cell_type": "markdown",
   "metadata": {},
   "source": [
    "The above code allocates a new NDArray and then assigns to *b*. When we do not\n",
    "want to allocate additional memory, we can use the `copyto` method or the slice\n",
    "operator `[]` instead."
   ]
  },
  {
   "cell_type": "code",
   "execution_count": null,
   "metadata": {},
   "outputs": [],
   "source": [
    "b = mx.nd.ones(a.shape)\n",
    "c = b\n",
    "c[:] = a\n",
    "d = b\n",
    "a.copyto(d)\n",
    "(c is b, d is b)  # Both will be True"
   ]
  },
  {
   "cell_type": "markdown",
   "metadata": {},
   "source": [
    "## Advanced Topics\n",
    "\n",
    "MXNet's NDArray offers some advanced features that differentiate it from the\n",
    "offerings you'll find in most other libraries.\n",
    "\n",
    "### GPU Support\n",
    "\n",
    "By default, NDArray operators are executed on CPU. But with MXNet, it's easy to\n",
    "switch to another computation resource, such as GPU, when available. Each\n",
    "NDArray's device information is stored in `ndarray.context`. When MXNet is\n",
    "compiled with flag `USE_CUDA=1` and the machine has at least one NVIDIA GPU, we\n",
    "can cause all computations to run on GPU 0 by using context `mx.gpu(0)`, or\n",
    "simply `mx.gpu()`. When we have access to two or more GPUs, the 2nd GPU is\n",
    "represented by `mx.gpu(1)`, etc.\n",
    "\n",
    "**Note** In order to execute the following section on a cpu set gpu_device to mx.cpu()."
   ]
  },
  {
   "cell_type": "code",
   "execution_count": null,
   "metadata": {},
   "outputs": [],
   "source": [
    "gpu_device=mx.gpu() # Change this to mx.cpu() in absence of GPUs.\n",
    "\n",
    "\n",
    "def f():\n",
    "    a = mx.nd.ones((100,100))\n",
    "    b = mx.nd.ones((100,100))\n",
    "    c = a + b\n",
    "    print(c)\n",
    "# in default mx.cpu() is used\n",
    "f()\n",
    "# change the default context to the first GPU\n",
    "with mx.Context(gpu_device):\n",
    "    f()"
   ]
  },
  {
   "cell_type": "markdown",
   "metadata": {},
   "source": [
    "We can also explicitly specify the context when creating an array:"
   ]
  },
  {
   "cell_type": "code",
   "execution_count": null,
   "metadata": {},
   "outputs": [],
   "source": [
    "a = mx.nd.ones((100, 100), gpu_device)\n",
    "a"
   ]
  },
  {
   "cell_type": "markdown",
   "metadata": {},
   "source": [
    "Currently, MXNet requires two arrays to sit on the same device for\n",
    "computation. There are several methods for copying data between devices."
   ]
  },
  {
   "cell_type": "code",
   "execution_count": null,
   "metadata": {},
   "outputs": [],
   "source": [
    "a = mx.nd.ones((100,100), mx.cpu())\n",
    "b = mx.nd.ones((100,100), gpu_device)\n",
    "c = mx.nd.ones((100,100), gpu_device)\n",
    "a.copyto(c)  # copy from CPU to GPU\n",
    "d = b + c\n",
    "e = b.as_in_context(c.context) + c  # same to above\n",
    "{'d':d, 'e':e}"
   ]
  },
  {
   "cell_type": "markdown",
   "metadata": {},
   "source": [
    "### Serialize From/To (Distributed) Filesystems\n",
    "\n",
    "MXNet offers two simple ways to save (load) data to (from) disk. The first way\n",
    "is to use `pickle`, as you might with any other Python objects. `NDArray` is\n",
    "pickle-compatible."
   ]
  },
  {
   "cell_type": "code",
   "execution_count": null,
   "metadata": {},
   "outputs": [],
   "source": [
    "import pickle as pkl\n",
    "a = mx.nd.ones((2, 3))\n",
    "# pack and then dump into disk\n",
    "data = pkl.dumps(a)\n",
    "pkl.dump(data, open('tmp.pickle', 'wb'))\n",
    "# load from disk and then unpack\n",
    "data = pkl.load(open('tmp.pickle', 'rb'))\n",
    "b = pkl.loads(data)\n",
    "b.asnumpy()"
   ]
  },
  {
   "cell_type": "markdown",
   "metadata": {},
   "source": [
    "The second way is to directly dump to disk in binary format by using the `save`\n",
    "and `load` methods. We can save/load a single NDArray, or a list of NDArrays:"
   ]
  },
  {
   "cell_type": "code",
   "execution_count": null,
   "metadata": {},
   "outputs": [],
   "source": [
    "a = mx.nd.ones((2,3))\n",
    "b = mx.nd.ones((5,6))\n",
    "mx.nd.save(\"temp.ndarray\", [a,b])\n",
    "c = mx.nd.load(\"temp.ndarray\")\n",
    "c"
   ]
  },
  {
   "cell_type": "markdown",
   "metadata": {},
   "source": [
    "It's also possible to save or load a dict of NDArrays in this fashion:"
   ]
  },
  {
   "cell_type": "code",
   "execution_count": null,
   "metadata": {},
   "outputs": [],
   "source": [
    "d = {'a':a, 'b':b}\n",
    "mx.nd.save(\"temp.ndarray\", d)\n",
    "c = mx.nd.load(\"temp.ndarray\")\n",
    "c"
   ]
  },
  {
   "cell_type": "markdown",
   "metadata": {},
   "source": [
    "The `load` and `save` methods are preferable to pickle in two respects\n",
    "\n",
    "1. When using these methods, you can save data from within the Python interface\n",
    "   and then use it later from another language's binding. For example, if we save\n",
    "   the data in Python:"
   ]
  },
  {
   "cell_type": "code",
   "execution_count": null,
   "metadata": {},
   "outputs": [],
   "source": [
    "a = mx.nd.ones((2, 3))\n",
    "mx.nd.save(\"temp.ndarray\", [a,])"
   ]
  },
  {
   "cell_type": "markdown",
   "metadata": {},
   "source": [
    "we can later load it from R:\n",
    "```\n",
    "a <- mx.nd.load(\"temp.ndarray\")\n",
    "as.array(a[[1]])\n",
    "##      [,1] [,2] [,3]\n",
    "## [1,]    1    1    1\n",
    "## [2,]    1    1    1\n",
    "```\n",
    "\n",
    "2. When a distributed filesystem such as Amazon S3 or Hadoop HDFS is set up, we\n",
    "   can directly save to and load from it.\n",
    "\n",
    "```\n",
    "mx.nd.save('s3://mybucket/mydata.ndarray', [a,])  # if compiled with USE_S3=1\n",
    "mx.nd.save('hdfs///users/myname/mydata.bin', [a,])  # if compiled with USE_HDFS=1\n",
    "```\n",
    "\n",
    "### Lazy Evaluation and Automatic Parallelization\n",
    "\n",
    "MXNet uses lazy evaluation to achieve superior performance.  When we run `a=b+1`\n",
    "in Python, the Python thread just pushes this operation into the backend engine\n",
    "and then returns.  There are two benefits to this approach:\n",
    "\n",
    "1. The main Python thread can continue to execute other computations once the\n",
    "   previous one is pushed. It is useful for frontend languages with heavy\n",
    "   overheads.\n",
    "2. It is easier for the backend engine to explore further optimization, such as\n",
    "   auto parallelization.\n",
    "\n",
    "The backend engine can resolve data dependencies and schedule the computations\n",
    "correctly. It is transparent to frontend users. We can explicitly call the\n",
    "method `wait_to_read` on the result array to wait until the computation\n",
    "finishes. Operations that copy data from an array to other packages, such as\n",
    "`asnumpy`, will implicitly call `wait_to_read`."
   ]
  },
  {
   "cell_type": "code",
   "execution_count": null,
   "metadata": {},
   "outputs": [],
   "source": [
    "import time\n",
    "def do(x, n):\n",
    "    \"\"\"push computation into the backend engine\"\"\"\n",
    "    return [mx.nd.dot(x,x) for i in range(n)]\n",
    "def wait(x):\n",
    "    \"\"\"wait until all results are available\"\"\"\n",
    "    for y in x:\n",
    "        y.wait_to_read()\n",
    "\n",
    "tic = time.time()\n",
    "a = mx.nd.ones((1000,1000))\n",
    "b = do(a, 50)\n",
    "print('time for all computations are pushed into the backend engine:\\n %f sec' % (time.time() - tic))\n",
    "wait(b)\n",
    "print('time for all computations are finished:\\n %f sec' % (time.time() - tic))"
   ]
  },
  {
   "cell_type": "markdown",
   "metadata": {},
   "source": [
    "Besides analyzing data read and write dependencies, the backend engine is able\n",
    "to schedule computations with no dependency in parallel. For example, in the\n",
    "following code:"
   ]
  },
  {
   "cell_type": "code",
   "execution_count": null,
   "metadata": {},
   "outputs": [],
   "source": [
    "a = mx.nd.ones((2,3))\n",
    "b = a + 1\n",
    "c = a + 2\n",
    "d = b * c"
   ]
  },
  {
   "cell_type": "markdown",
   "metadata": {},
   "source": [
    "the second and third lines can be executed in parallel. The following example\n",
    "first runs on CPU and then on GPU:"
   ]
  },
  {
   "cell_type": "code",
   "execution_count": null,
   "metadata": {},
   "outputs": [],
   "source": [
    "n = 10\n",
    "a = mx.nd.ones((1000,1000))\n",
    "b = mx.nd.ones((6000,6000), gpu_device)\n",
    "tic = time.time()\n",
    "c = do(a, n)\n",
    "wait(c)\n",
    "print('Time to finish the CPU workload: %f sec' % (time.time() - tic))\n",
    "d = do(b, n)\n",
    "wait(d)\n",
    "print('Time to finish both CPU/GPU workloads: %f sec' % (time.time() - tic))"
   ]
  },
  {
   "cell_type": "markdown",
   "metadata": {},
   "source": [
    "Now we issue all workloads at the same time. The backend engine will try to\n",
    "parallel the CPU and GPU computations."
   ]
  },
  {
   "cell_type": "code",
   "execution_count": null,
   "metadata": {},
   "outputs": [],
   "source": [
    "tic = time.time()\n",
    "c = do(a, n)\n",
    "d = do(b, n)\n",
    "wait(c)\n",
    "wait(d)\n",
    "print('Both as finished in: %f sec' % (time.time() - tic))"
   ]
  },
  {
   "cell_type": "markdown",
   "metadata": {},
   "source": [
    "\n",
    "<!-- INSERT SOURCE DOWNLOAD BUTTONS -->\n",
    "\n"
   ]
  }
 ],
 "metadata": {
  "display_name": "",
  "kernelspec": {
   "display_name": "Python 3",
   "language": "python",
   "name": "python3"
  },
  "language_info": {
   "codemirror_mode": {
    "name": "ipython",
    "version": 3
   },
   "file_extension": ".py",
   "mimetype": "text/x-python",
   "name": "python",
   "nbconvert_exporter": "python",
   "pygments_lexer": "ipython3",
   "version": "3.6.5"
  },
  "name": ""
 },
 "nbformat": 4,
 "nbformat_minor": 2
}
