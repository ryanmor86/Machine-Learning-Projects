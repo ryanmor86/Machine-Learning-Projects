{
 "cells": [
  {
   "cell_type": "code",
   "execution_count": 1,
   "metadata": {
    "_cell_guid": "b1076dfc-b9ad-4769-8c92-a6c4dae69d19",
    "_kg_hide-input": true,
    "_kg_hide-output": true,
    "_uuid": "8f2839f25d086af736a60e9eeb907d3b93b6e0e5"
   },
   "outputs": [
    {
     "ename": "FileNotFoundError",
     "evalue": "File b'msd-jmirderivatives_dev.csv' does not exist",
     "output_type": "error",
     "traceback": [
      "\u001b[0;31m---------------------------------------------------------------------------\u001b[0m",
      "\u001b[0;31mFileNotFoundError\u001b[0m                         Traceback (most recent call last)",
      "\u001b[0;32m<ipython-input-1-a59b7ceefc4a>\u001b[0m in \u001b[0;36m<module>\u001b[0;34m()\u001b[0m\n\u001b[1;32m      8\u001b[0m \u001b[0;31m# Input data files are available in the \"../input/\" directory.\u001b[0m\u001b[0;34m\u001b[0m\u001b[0;34m\u001b[0m\u001b[0m\n\u001b[1;32m      9\u001b[0m \u001b[0;31m# For example, running this (by clicking run or pressing Shift+Enter) will list the files in the input directory\u001b[0m\u001b[0;34m\u001b[0m\u001b[0;34m\u001b[0m\u001b[0m\n\u001b[0;32m---> 10\u001b[0;31m \u001b[0mdataset_1\u001b[0m\u001b[0;34m=\u001b[0m\u001b[0mpd\u001b[0m\u001b[0;34m.\u001b[0m\u001b[0mread_csv\u001b[0m\u001b[0;34m(\u001b[0m\u001b[0;34m\"msd-jmirderivatives_dev.csv\"\u001b[0m\u001b[0;34m)\u001b[0m\u001b[0;34m\u001b[0m\u001b[0m\n\u001b[0m\u001b[1;32m     11\u001b[0m \u001b[0mdataset_2\u001b[0m\u001b[0;34m=\u001b[0m\u001b[0mpd\u001b[0m\u001b[0;34m.\u001b[0m\u001b[0mread_csv\u001b[0m\u001b[0;34m(\u001b[0m\u001b[0;34m\"msd-marsyas_dev_new.csv\"\u001b[0m\u001b[0;34m)\u001b[0m\u001b[0;34m\u001b[0m\u001b[0m\n\u001b[1;32m     12\u001b[0m \u001b[0mdataset_3\u001b[0m\u001b[0;34m=\u001b[0m\u001b[0mpd\u001b[0m\u001b[0;34m.\u001b[0m\u001b[0mread_csv\u001b[0m\u001b[0;34m(\u001b[0m\u001b[0;34m\"msd-rh_dev_new.csv\"\u001b[0m\u001b[0;34m)\u001b[0m\u001b[0;34m\u001b[0m\u001b[0m\n",
      "\u001b[0;32m~/miniconda3/envs/gti770/lib/python3.6/site-packages/pandas/io/parsers.py\u001b[0m in \u001b[0;36mparser_f\u001b[0;34m(filepath_or_buffer, sep, delimiter, header, names, index_col, usecols, squeeze, prefix, mangle_dupe_cols, dtype, engine, converters, true_values, false_values, skipinitialspace, skiprows, nrows, na_values, keep_default_na, na_filter, verbose, skip_blank_lines, parse_dates, infer_datetime_format, keep_date_col, date_parser, dayfirst, iterator, chunksize, compression, thousands, decimal, lineterminator, quotechar, quoting, escapechar, comment, encoding, dialect, tupleize_cols, error_bad_lines, warn_bad_lines, skipfooter, doublequote, delim_whitespace, low_memory, memory_map, float_precision)\u001b[0m\n\u001b[1;32m    676\u001b[0m                     skip_blank_lines=skip_blank_lines)\n\u001b[1;32m    677\u001b[0m \u001b[0;34m\u001b[0m\u001b[0m\n\u001b[0;32m--> 678\u001b[0;31m         \u001b[0;32mreturn\u001b[0m \u001b[0m_read\u001b[0m\u001b[0;34m(\u001b[0m\u001b[0mfilepath_or_buffer\u001b[0m\u001b[0;34m,\u001b[0m \u001b[0mkwds\u001b[0m\u001b[0;34m)\u001b[0m\u001b[0;34m\u001b[0m\u001b[0m\n\u001b[0m\u001b[1;32m    679\u001b[0m \u001b[0;34m\u001b[0m\u001b[0m\n\u001b[1;32m    680\u001b[0m     \u001b[0mparser_f\u001b[0m\u001b[0;34m.\u001b[0m\u001b[0m__name__\u001b[0m \u001b[0;34m=\u001b[0m \u001b[0mname\u001b[0m\u001b[0;34m\u001b[0m\u001b[0m\n",
      "\u001b[0;32m~/miniconda3/envs/gti770/lib/python3.6/site-packages/pandas/io/parsers.py\u001b[0m in \u001b[0;36m_read\u001b[0;34m(filepath_or_buffer, kwds)\u001b[0m\n\u001b[1;32m    438\u001b[0m \u001b[0;34m\u001b[0m\u001b[0m\n\u001b[1;32m    439\u001b[0m     \u001b[0;31m# Create the parser.\u001b[0m\u001b[0;34m\u001b[0m\u001b[0;34m\u001b[0m\u001b[0m\n\u001b[0;32m--> 440\u001b[0;31m     \u001b[0mparser\u001b[0m \u001b[0;34m=\u001b[0m \u001b[0mTextFileReader\u001b[0m\u001b[0;34m(\u001b[0m\u001b[0mfilepath_or_buffer\u001b[0m\u001b[0;34m,\u001b[0m \u001b[0;34m**\u001b[0m\u001b[0mkwds\u001b[0m\u001b[0;34m)\u001b[0m\u001b[0;34m\u001b[0m\u001b[0m\n\u001b[0m\u001b[1;32m    441\u001b[0m \u001b[0;34m\u001b[0m\u001b[0m\n\u001b[1;32m    442\u001b[0m     \u001b[0;32mif\u001b[0m \u001b[0mchunksize\u001b[0m \u001b[0;32mor\u001b[0m \u001b[0miterator\u001b[0m\u001b[0;34m:\u001b[0m\u001b[0;34m\u001b[0m\u001b[0m\n",
      "\u001b[0;32m~/miniconda3/envs/gti770/lib/python3.6/site-packages/pandas/io/parsers.py\u001b[0m in \u001b[0;36m__init__\u001b[0;34m(self, f, engine, **kwds)\u001b[0m\n\u001b[1;32m    785\u001b[0m             \u001b[0mself\u001b[0m\u001b[0;34m.\u001b[0m\u001b[0moptions\u001b[0m\u001b[0;34m[\u001b[0m\u001b[0;34m'has_index_names'\u001b[0m\u001b[0;34m]\u001b[0m \u001b[0;34m=\u001b[0m \u001b[0mkwds\u001b[0m\u001b[0;34m[\u001b[0m\u001b[0;34m'has_index_names'\u001b[0m\u001b[0;34m]\u001b[0m\u001b[0;34m\u001b[0m\u001b[0m\n\u001b[1;32m    786\u001b[0m \u001b[0;34m\u001b[0m\u001b[0m\n\u001b[0;32m--> 787\u001b[0;31m         \u001b[0mself\u001b[0m\u001b[0;34m.\u001b[0m\u001b[0m_make_engine\u001b[0m\u001b[0;34m(\u001b[0m\u001b[0mself\u001b[0m\u001b[0;34m.\u001b[0m\u001b[0mengine\u001b[0m\u001b[0;34m)\u001b[0m\u001b[0;34m\u001b[0m\u001b[0m\n\u001b[0m\u001b[1;32m    788\u001b[0m \u001b[0;34m\u001b[0m\u001b[0m\n\u001b[1;32m    789\u001b[0m     \u001b[0;32mdef\u001b[0m \u001b[0mclose\u001b[0m\u001b[0;34m(\u001b[0m\u001b[0mself\u001b[0m\u001b[0;34m)\u001b[0m\u001b[0;34m:\u001b[0m\u001b[0;34m\u001b[0m\u001b[0m\n",
      "\u001b[0;32m~/miniconda3/envs/gti770/lib/python3.6/site-packages/pandas/io/parsers.py\u001b[0m in \u001b[0;36m_make_engine\u001b[0;34m(self, engine)\u001b[0m\n\u001b[1;32m   1012\u001b[0m     \u001b[0;32mdef\u001b[0m \u001b[0m_make_engine\u001b[0m\u001b[0;34m(\u001b[0m\u001b[0mself\u001b[0m\u001b[0;34m,\u001b[0m \u001b[0mengine\u001b[0m\u001b[0;34m=\u001b[0m\u001b[0;34m'c'\u001b[0m\u001b[0;34m)\u001b[0m\u001b[0;34m:\u001b[0m\u001b[0;34m\u001b[0m\u001b[0m\n\u001b[1;32m   1013\u001b[0m         \u001b[0;32mif\u001b[0m \u001b[0mengine\u001b[0m \u001b[0;34m==\u001b[0m \u001b[0;34m'c'\u001b[0m\u001b[0;34m:\u001b[0m\u001b[0;34m\u001b[0m\u001b[0m\n\u001b[0;32m-> 1014\u001b[0;31m             \u001b[0mself\u001b[0m\u001b[0;34m.\u001b[0m\u001b[0m_engine\u001b[0m \u001b[0;34m=\u001b[0m \u001b[0mCParserWrapper\u001b[0m\u001b[0;34m(\u001b[0m\u001b[0mself\u001b[0m\u001b[0;34m.\u001b[0m\u001b[0mf\u001b[0m\u001b[0;34m,\u001b[0m \u001b[0;34m**\u001b[0m\u001b[0mself\u001b[0m\u001b[0;34m.\u001b[0m\u001b[0moptions\u001b[0m\u001b[0;34m)\u001b[0m\u001b[0;34m\u001b[0m\u001b[0m\n\u001b[0m\u001b[1;32m   1015\u001b[0m         \u001b[0;32melse\u001b[0m\u001b[0;34m:\u001b[0m\u001b[0;34m\u001b[0m\u001b[0m\n\u001b[1;32m   1016\u001b[0m             \u001b[0;32mif\u001b[0m \u001b[0mengine\u001b[0m \u001b[0;34m==\u001b[0m \u001b[0;34m'python'\u001b[0m\u001b[0;34m:\u001b[0m\u001b[0;34m\u001b[0m\u001b[0m\n",
      "\u001b[0;32m~/miniconda3/envs/gti770/lib/python3.6/site-packages/pandas/io/parsers.py\u001b[0m in \u001b[0;36m__init__\u001b[0;34m(self, src, **kwds)\u001b[0m\n\u001b[1;32m   1706\u001b[0m         \u001b[0mkwds\u001b[0m\u001b[0;34m[\u001b[0m\u001b[0;34m'usecols'\u001b[0m\u001b[0;34m]\u001b[0m \u001b[0;34m=\u001b[0m \u001b[0mself\u001b[0m\u001b[0;34m.\u001b[0m\u001b[0musecols\u001b[0m\u001b[0;34m\u001b[0m\u001b[0m\n\u001b[1;32m   1707\u001b[0m \u001b[0;34m\u001b[0m\u001b[0m\n\u001b[0;32m-> 1708\u001b[0;31m         \u001b[0mself\u001b[0m\u001b[0;34m.\u001b[0m\u001b[0m_reader\u001b[0m \u001b[0;34m=\u001b[0m \u001b[0mparsers\u001b[0m\u001b[0;34m.\u001b[0m\u001b[0mTextReader\u001b[0m\u001b[0;34m(\u001b[0m\u001b[0msrc\u001b[0m\u001b[0;34m,\u001b[0m \u001b[0;34m**\u001b[0m\u001b[0mkwds\u001b[0m\u001b[0;34m)\u001b[0m\u001b[0;34m\u001b[0m\u001b[0m\n\u001b[0m\u001b[1;32m   1709\u001b[0m \u001b[0;34m\u001b[0m\u001b[0m\n\u001b[1;32m   1710\u001b[0m         \u001b[0mpassed_names\u001b[0m \u001b[0;34m=\u001b[0m \u001b[0mself\u001b[0m\u001b[0;34m.\u001b[0m\u001b[0mnames\u001b[0m \u001b[0;32mis\u001b[0m \u001b[0;32mNone\u001b[0m\u001b[0;34m\u001b[0m\u001b[0m\n",
      "\u001b[0;32mpandas/_libs/parsers.pyx\u001b[0m in \u001b[0;36mpandas._libs.parsers.TextReader.__cinit__\u001b[0;34m()\u001b[0m\n",
      "\u001b[0;32mpandas/_libs/parsers.pyx\u001b[0m in \u001b[0;36mpandas._libs.parsers.TextReader._setup_parser_source\u001b[0;34m()\u001b[0m\n",
      "\u001b[0;31mFileNotFoundError\u001b[0m: File b'msd-jmirderivatives_dev.csv' does not exist"
     ]
    }
   ],
   "source": [
    "# This Python 3 environment comes with many helpful analytics libraries installed\n",
    "# It is defined by the kaggle/python docker image: https://github.com/kaggle/docker-python\n",
    "# For example, here's several helpful packages to load in \n",
    "\n",
    "import numpy as np # linear algebra\n",
    "import pandas as pd # data processing, CSV file I/O (e.g. pd.read_csv)\n",
    "\n",
    "# Input data files are available in the \"../input/\" directory.\n",
    "# For example, running this (by clicking run or pressing Shift+Enter) will list the files in the input directory\n",
    "dataset_1=pd.read_csv(\"msd-jmirderivatives_dev.csv\")\n",
    "dataset_2=pd.read_csv(\"msd-marsyas_dev_new.csv\")\n",
    "dataset_3=pd.read_csv(\"msd-rh_dev_new.csv\")\n",
    "#print(os.listdir(\"../input/msd-jmirderivatives_dev.csv\"))\n",
    "\n",
    "# Any results you write to the current directory are saved as output."
   ]
  },
  {
   "cell_type": "code",
   "execution_count": 2,
   "metadata": {
    "_cell_guid": "79c7e3d0-c299-4dcb-8224-4455121ee9b0",
    "_uuid": "d629ff2d2480ee46fbb7e2d37f6b5fab8052498a"
   },
   "outputs": [
    {
     "data": {
      "text/html": [
       "<div>\n",
       "<style scoped>\n",
       "    .dataframe tbody tr th:only-of-type {\n",
       "        vertical-align: middle;\n",
       "    }\n",
       "\n",
       "    .dataframe tbody tr th {\n",
       "        vertical-align: top;\n",
       "    }\n",
       "\n",
       "    .dataframe thead th {\n",
       "        text-align: right;\n",
       "    }\n",
       "</style>\n",
       "<table border=\"1\" class=\"dataframe\">\n",
       "  <thead>\n",
       "    <tr style=\"text-align: right;\">\n",
       "      <th></th>\n",
       "      <th>1</th>\n",
       "      <th>TRAAAAK128F9318786</th>\n",
       "      <th>12.853071</th>\n",
       "      <th>10.332411</th>\n",
       "      <th>10.335533</th>\n",
       "      <th>7.868886</th>\n",
       "      <th>7.272001</th>\n",
       "      <th>6.099896</th>\n",
       "      <th>5.53476</th>\n",
       "      <th>4.643962</th>\n",
       "      <th>...</th>\n",
       "      <th>2.275085</th>\n",
       "      <th>2.112406</th>\n",
       "      <th>2.758121</th>\n",
       "      <th>2.090873</th>\n",
       "      <th>1.908192</th>\n",
       "      <th>2.123749</th>\n",
       "      <th>1.88613</th>\n",
       "      <th>2.012004</th>\n",
       "      <th>2.043548</th>\n",
       "      <th>METAL_ALTERNATIVE</th>\n",
       "    </tr>\n",
       "  </thead>\n",
       "  <tbody>\n",
       "    <tr>\n",
       "      <th>0</th>\n",
       "      <td>2</td>\n",
       "      <td>TRAAAAV128F421A322</td>\n",
       "      <td>17.198986</td>\n",
       "      <td>9.442742</td>\n",
       "      <td>4.757221</td>\n",
       "      <td>4.228200</td>\n",
       "      <td>4.539081</td>\n",
       "      <td>4.497560</td>\n",
       "      <td>4.277170</td>\n",
       "      <td>3.594716</td>\n",
       "      <td>...</td>\n",
       "      <td>1.812926</td>\n",
       "      <td>1.528240</td>\n",
       "      <td>1.857964</td>\n",
       "      <td>1.707600</td>\n",
       "      <td>1.458026</td>\n",
       "      <td>1.373432</td>\n",
       "      <td>1.602645</td>\n",
       "      <td>1.737878</td>\n",
       "      <td>1.609511</td>\n",
       "      <td>PUNK</td>\n",
       "    </tr>\n",
       "    <tr>\n",
       "      <th>1</th>\n",
       "      <td>4</td>\n",
       "      <td>TRAAACV128F423E09E</td>\n",
       "      <td>19.389994</td>\n",
       "      <td>17.027159</td>\n",
       "      <td>13.058027</td>\n",
       "      <td>11.155796</td>\n",
       "      <td>9.669224</td>\n",
       "      <td>8.961533</td>\n",
       "      <td>7.499838</td>\n",
       "      <td>6.920094</td>\n",
       "      <td>...</td>\n",
       "      <td>2.506652</td>\n",
       "      <td>2.350971</td>\n",
       "      <td>2.535761</td>\n",
       "      <td>2.718591</td>\n",
       "      <td>2.276181</td>\n",
       "      <td>2.453018</td>\n",
       "      <td>2.511504</td>\n",
       "      <td>2.826884</td>\n",
       "      <td>3.663387</td>\n",
       "      <td>ROCK_NEO_PSYCHEDELIA</td>\n",
       "    </tr>\n",
       "    <tr>\n",
       "      <th>2</th>\n",
       "      <td>5</td>\n",
       "      <td>TRAAAEF128F4273421</td>\n",
       "      <td>11.605080</td>\n",
       "      <td>9.256760</td>\n",
       "      <td>8.724176</td>\n",
       "      <td>8.200969</td>\n",
       "      <td>5.643767</td>\n",
       "      <td>8.921944</td>\n",
       "      <td>5.330176</td>\n",
       "      <td>5.428105</td>\n",
       "      <td>...</td>\n",
       "      <td>1.983979</td>\n",
       "      <td>1.886013</td>\n",
       "      <td>1.614015</td>\n",
       "      <td>1.974214</td>\n",
       "      <td>1.576792</td>\n",
       "      <td>1.651524</td>\n",
       "      <td>1.962007</td>\n",
       "      <td>3.463660</td>\n",
       "      <td>1.802102</td>\n",
       "      <td>POP_INDIE</td>\n",
       "    </tr>\n",
       "    <tr>\n",
       "      <th>3</th>\n",
       "      <td>6</td>\n",
       "      <td>TRAAAFP128F931B4E3</td>\n",
       "      <td>14.023560</td>\n",
       "      <td>11.152698</td>\n",
       "      <td>9.383973</td>\n",
       "      <td>7.436968</td>\n",
       "      <td>8.166128</td>\n",
       "      <td>7.703664</td>\n",
       "      <td>8.503490</td>\n",
       "      <td>7.916817</td>\n",
       "      <td>...</td>\n",
       "      <td>2.760915</td>\n",
       "      <td>3.371663</td>\n",
       "      <td>3.361057</td>\n",
       "      <td>3.515818</td>\n",
       "      <td>11.103334</td>\n",
       "      <td>5.209470</td>\n",
       "      <td>3.003968</td>\n",
       "      <td>3.046713</td>\n",
       "      <td>3.444955</td>\n",
       "      <td>HIP_HOP_RAP</td>\n",
       "    </tr>\n",
       "    <tr>\n",
       "      <th>4</th>\n",
       "      <td>7</td>\n",
       "      <td>TRAAAGR128F425B14B</td>\n",
       "      <td>16.251157</td>\n",
       "      <td>12.928630</td>\n",
       "      <td>11.824451</td>\n",
       "      <td>9.004019</td>\n",
       "      <td>7.283724</td>\n",
       "      <td>9.803689</td>\n",
       "      <td>5.986288</td>\n",
       "      <td>6.647643</td>\n",
       "      <td>...</td>\n",
       "      <td>2.516831</td>\n",
       "      <td>1.955422</td>\n",
       "      <td>2.285945</td>\n",
       "      <td>2.469236</td>\n",
       "      <td>2.305712</td>\n",
       "      <td>1.876578</td>\n",
       "      <td>2.024935</td>\n",
       "      <td>1.924972</td>\n",
       "      <td>2.377372</td>\n",
       "      <td>POP_CONTEMPORARY</td>\n",
       "    </tr>\n",
       "  </tbody>\n",
       "</table>\n",
       "<p>5 rows × 63 columns</p>\n",
       "</div>"
      ],
      "text/plain": [
       "   1  TRAAAAK128F9318786  12.853071  10.332411  10.335533   7.868886  \\\n",
       "0  2  TRAAAAV128F421A322  17.198986   9.442742   4.757221   4.228200   \n",
       "1  4  TRAAACV128F423E09E  19.389994  17.027159  13.058027  11.155796   \n",
       "2  5  TRAAAEF128F4273421  11.605080   9.256760   8.724176   8.200969   \n",
       "3  6  TRAAAFP128F931B4E3  14.023560  11.152698   9.383973   7.436968   \n",
       "4  7  TRAAAGR128F425B14B  16.251157  12.928630  11.824451   9.004019   \n",
       "\n",
       "   7.272001  6.099896   5.53476  4.643962          ...           2.275085  \\\n",
       "0  4.539081  4.497560  4.277170  3.594716          ...           1.812926   \n",
       "1  9.669224  8.961533  7.499838  6.920094          ...           2.506652   \n",
       "2  5.643767  8.921944  5.330176  5.428105          ...           1.983979   \n",
       "3  8.166128  7.703664  8.503490  7.916817          ...           2.760915   \n",
       "4  7.283724  9.803689  5.986288  6.647643          ...           2.516831   \n",
       "\n",
       "   2.112406  2.758121  2.090873   1.908192  2.123749   1.88613  2.012004  \\\n",
       "0  1.528240  1.857964  1.707600   1.458026  1.373432  1.602645  1.737878   \n",
       "1  2.350971  2.535761  2.718591   2.276181  2.453018  2.511504  2.826884   \n",
       "2  1.886013  1.614015  1.974214   1.576792  1.651524  1.962007  3.463660   \n",
       "3  3.371663  3.361057  3.515818  11.103334  5.209470  3.003968  3.046713   \n",
       "4  1.955422  2.285945  2.469236   2.305712  1.876578  2.024935  1.924972   \n",
       "\n",
       "   2.043548     METAL_ALTERNATIVE  \n",
       "0  1.609511                  PUNK  \n",
       "1  3.663387  ROCK_NEO_PSYCHEDELIA  \n",
       "2  1.802102             POP_INDIE  \n",
       "3  3.444955           HIP_HOP_RAP  \n",
       "4  2.377372      POP_CONTEMPORARY  \n",
       "\n",
       "[5 rows x 63 columns]"
      ]
     },
     "execution_count": 2,
     "metadata": {},
     "output_type": "execute_result"
    }
   ],
   "source": [
    "dataset_3.head()"
   ]
  },
  {
   "cell_type": "code",
   "execution_count": 3,
   "metadata": {
    "_uuid": "5435165e2ef1af331b48c2a40afa31e858a16012",
    "collapsed": true
   },
   "outputs": [],
   "source": [
    "dataset_1=dataset_1.iloc[:,2:]\n",
    "dataset_2=dataset_2.iloc[:,2:]\n",
    "dataset_3=dataset_3.iloc[:,2:]"
   ]
  },
  {
   "cell_type": "code",
   "execution_count": 4,
   "metadata": {
    "_uuid": "dea5222f7317419862882abcb8f39010ae9943e4"
   },
   "outputs": [
    {
     "data": {
      "text/html": [
       "<div>\n",
       "<style scoped>\n",
       "    .dataframe tbody tr th:only-of-type {\n",
       "        vertical-align: middle;\n",
       "    }\n",
       "\n",
       "    .dataframe tbody tr th {\n",
       "        vertical-align: top;\n",
       "    }\n",
       "\n",
       "    .dataframe thead th {\n",
       "        text-align: right;\n",
       "    }\n",
       "</style>\n",
       "<table border=\"1\" class=\"dataframe\">\n",
       "  <thead>\n",
       "    <tr style=\"text-align: right;\">\n",
       "      <th></th>\n",
       "      <th>0.132028</th>\n",
       "      <th>0.091345</th>\n",
       "      <th>0.233464</th>\n",
       "      <th>0.086542</th>\n",
       "      <th>-38.999132</th>\n",
       "      <th>2.723627</th>\n",
       "      <th>-0.133527</th>\n",
       "      <th>0.591571</th>\n",
       "      <th>-0.230206</th>\n",
       "      <th>0.419776</th>\n",
       "      <th>...</th>\n",
       "      <th>0.001431</th>\n",
       "      <th>0.001528</th>\n",
       "      <th>0.001541</th>\n",
       "      <th>0.001468</th>\n",
       "      <th>0.001439</th>\n",
       "      <th>0.001304</th>\n",
       "      <th>0.001107</th>\n",
       "      <th>0.17907</th>\n",
       "      <th>1.255948</th>\n",
       "      <th>METAL_ALTERNATIVE</th>\n",
       "    </tr>\n",
       "  </thead>\n",
       "  <tbody>\n",
       "    <tr>\n",
       "      <th>0</th>\n",
       "      <td>0.127183</td>\n",
       "      <td>0.090223</td>\n",
       "      <td>0.242338</td>\n",
       "      <td>0.089374</td>\n",
       "      <td>-41.151760</td>\n",
       "      <td>2.798033</td>\n",
       "      <td>-0.726277</td>\n",
       "      <td>1.631193</td>\n",
       "      <td>-0.228796</td>\n",
       "      <td>0.367150</td>\n",
       "      <td>...</td>\n",
       "      <td>0.000379</td>\n",
       "      <td>0.000384</td>\n",
       "      <td>0.000383</td>\n",
       "      <td>0.000370</td>\n",
       "      <td>0.000342</td>\n",
       "      <td>0.000352</td>\n",
       "      <td>0.000396</td>\n",
       "      <td>0.145435</td>\n",
       "      <td>0.668222</td>\n",
       "      <td>PUNK</td>\n",
       "    </tr>\n",
       "    <tr>\n",
       "      <th>1</th>\n",
       "      <td>0.059328</td>\n",
       "      <td>0.040161</td>\n",
       "      <td>0.093398</td>\n",
       "      <td>0.104772</td>\n",
       "      <td>-43.009619</td>\n",
       "      <td>4.192990</td>\n",
       "      <td>-0.521473</td>\n",
       "      <td>1.670314</td>\n",
       "      <td>0.052299</td>\n",
       "      <td>-0.150498</td>\n",
       "      <td>...</td>\n",
       "      <td>0.000259</td>\n",
       "      <td>0.000271</td>\n",
       "      <td>0.000282</td>\n",
       "      <td>0.000282</td>\n",
       "      <td>0.000269</td>\n",
       "      <td>0.000254</td>\n",
       "      <td>0.000254</td>\n",
       "      <td>0.111322</td>\n",
       "      <td>0.435191</td>\n",
       "      <td>ROCK_NEO_PSYCHEDELIA</td>\n",
       "    </tr>\n",
       "    <tr>\n",
       "      <th>2</th>\n",
       "      <td>0.082033</td>\n",
       "      <td>0.061840</td>\n",
       "      <td>0.137211</td>\n",
       "      <td>0.100236</td>\n",
       "      <td>-43.331360</td>\n",
       "      <td>3.491156</td>\n",
       "      <td>-0.364496</td>\n",
       "      <td>1.199155</td>\n",
       "      <td>-0.476379</td>\n",
       "      <td>0.130939</td>\n",
       "      <td>...</td>\n",
       "      <td>0.000218</td>\n",
       "      <td>0.000214</td>\n",
       "      <td>0.000221</td>\n",
       "      <td>0.000223</td>\n",
       "      <td>0.000213</td>\n",
       "      <td>0.000204</td>\n",
       "      <td>0.000201</td>\n",
       "      <td>0.246681</td>\n",
       "      <td>2.129936</td>\n",
       "      <td>POP_INDIE</td>\n",
       "    </tr>\n",
       "    <tr>\n",
       "      <th>3</th>\n",
       "      <td>0.080589</td>\n",
       "      <td>0.054988</td>\n",
       "      <td>0.399908</td>\n",
       "      <td>0.098947</td>\n",
       "      <td>-42.418817</td>\n",
       "      <td>2.374161</td>\n",
       "      <td>-0.259375</td>\n",
       "      <td>0.153841</td>\n",
       "      <td>-0.101845</td>\n",
       "      <td>-0.163809</td>\n",
       "      <td>...</td>\n",
       "      <td>0.003283</td>\n",
       "      <td>0.003255</td>\n",
       "      <td>0.003185</td>\n",
       "      <td>0.003140</td>\n",
       "      <td>0.003253</td>\n",
       "      <td>0.003282</td>\n",
       "      <td>0.003257</td>\n",
       "      <td>0.218629</td>\n",
       "      <td>1.568039</td>\n",
       "      <td>HIP_HOP_RAP</td>\n",
       "    </tr>\n",
       "    <tr>\n",
       "      <th>4</th>\n",
       "      <td>0.076593</td>\n",
       "      <td>0.048001</td>\n",
       "      <td>0.244860</td>\n",
       "      <td>0.095075</td>\n",
       "      <td>-41.616322</td>\n",
       "      <td>2.692762</td>\n",
       "      <td>-0.217356</td>\n",
       "      <td>0.904691</td>\n",
       "      <td>-0.090575</td>\n",
       "      <td>0.451840</td>\n",
       "      <td>...</td>\n",
       "      <td>0.002038</td>\n",
       "      <td>0.002048</td>\n",
       "      <td>0.002011</td>\n",
       "      <td>0.001999</td>\n",
       "      <td>0.002039</td>\n",
       "      <td>0.002013</td>\n",
       "      <td>0.001974</td>\n",
       "      <td>0.192679</td>\n",
       "      <td>0.967168</td>\n",
       "      <td>POP_CONTEMPORARY</td>\n",
       "    </tr>\n",
       "  </tbody>\n",
       "</table>\n",
       "<p>5 rows × 125 columns</p>\n",
       "</div>"
      ],
      "text/plain": [
       "   0.132028  0.091345  0.233464  0.086542  -38.999132  2.723627  -0.133527  \\\n",
       "0  0.127183  0.090223  0.242338  0.089374  -41.151760  2.798033  -0.726277   \n",
       "1  0.059328  0.040161  0.093398  0.104772  -43.009619  4.192990  -0.521473   \n",
       "2  0.082033  0.061840  0.137211  0.100236  -43.331360  3.491156  -0.364496   \n",
       "3  0.080589  0.054988  0.399908  0.098947  -42.418817  2.374161  -0.259375   \n",
       "4  0.076593  0.048001  0.244860  0.095075  -41.616322  2.692762  -0.217356   \n",
       "\n",
       "   0.591571  -0.230206  0.419776          ...           0.001431  0.001528  \\\n",
       "0  1.631193  -0.228796  0.367150          ...           0.000379  0.000384   \n",
       "1  1.670314   0.052299 -0.150498          ...           0.000259  0.000271   \n",
       "2  1.199155  -0.476379  0.130939          ...           0.000218  0.000214   \n",
       "3  0.153841  -0.101845 -0.163809          ...           0.003283  0.003255   \n",
       "4  0.904691  -0.090575  0.451840          ...           0.002038  0.002048   \n",
       "\n",
       "   0.001541  0.001468  0.001439  0.001304  0.001107   0.17907  1.255948  \\\n",
       "0  0.000383  0.000370  0.000342  0.000352  0.000396  0.145435  0.668222   \n",
       "1  0.000282  0.000282  0.000269  0.000254  0.000254  0.111322  0.435191   \n",
       "2  0.000221  0.000223  0.000213  0.000204  0.000201  0.246681  2.129936   \n",
       "3  0.003185  0.003140  0.003253  0.003282  0.003257  0.218629  1.568039   \n",
       "4  0.002011  0.001999  0.002039  0.002013  0.001974  0.192679  0.967168   \n",
       "\n",
       "      METAL_ALTERNATIVE  \n",
       "0                  PUNK  \n",
       "1  ROCK_NEO_PSYCHEDELIA  \n",
       "2             POP_INDIE  \n",
       "3           HIP_HOP_RAP  \n",
       "4      POP_CONTEMPORARY  \n",
       "\n",
       "[5 rows x 125 columns]"
      ]
     },
     "execution_count": 4,
     "metadata": {},
     "output_type": "execute_result"
    }
   ],
   "source": [
    "dataset_2.head()"
   ]
  },
  {
   "cell_type": "code",
   "execution_count": null,
   "metadata": {
    "_uuid": "a723cc4518a074962061c40884f4e71e82c1e13d"
   },
   "outputs": [],
   "source": [
    "\n",
    "print(dataset_3.shape)"
   ]
  },
  {
   "cell_type": "code",
   "execution_count": 6,
   "metadata": {
    "_uuid": "1429266f6b2f04aad19d14ee8a09f3d522302479",
    "collapsed": true
   },
   "outputs": [],
   "source": [
    "Xdataset_1=dataset_1.iloc[:,0:96]\n",
    "Ydataset_1=dataset_1.iloc[:,96]\n",
    "Xdataset_2=dataset_2.iloc[:,0:124]\n",
    "Ydataset_2=dataset_2.iloc[:,124]\n",
    "Xdataset_3=dataset_3.iloc[:,0:60]\n",
    "Ydataset_3=dataset_3.iloc[:,60]"
   ]
  },
  {
   "cell_type": "code",
   "execution_count": 7,
   "metadata": {
    "_uuid": "4e592f42d5af7b02b59fa4ba939a52cf7ae2c407"
   },
   "outputs": [
    {
     "data": {
      "text/plain": [
       "0                    PUNK\n",
       "1    ROCK_NEO_PSYCHEDELIA\n",
       "2               POP_INDIE\n",
       "3             HIP_HOP_RAP\n",
       "4        POP_CONTEMPORARY\n",
       "Name: METAL_ALTERNATIVE, dtype: object"
      ]
     },
     "execution_count": 7,
     "metadata": {},
     "output_type": "execute_result"
    }
   ],
   "source": [
    "Ydataset_1.head()"
   ]
  },
  {
   "cell_type": "markdown",
   "metadata": {
    "_uuid": "e0514287c84a3c2e6b51114addfe783fd301ae27"
   },
   "source": [
    "Split the data into 70% training and 30% test"
   ]
  },
  {
   "cell_type": "code",
   "execution_count": 8,
   "metadata": {
    "_uuid": "0b0b273858744dac34e319d41906b9a28e914801",
    "collapsed": true
   },
   "outputs": [],
   "source": [
    "from sklearn.model_selection import train_test_split\n",
    "Xtrain_1, Xtest_1, Ytrain_1, Ytest_1 = train_test_split(\n",
    "    Xdataset_1, Ydataset_1, test_size=0.3, random_state=0, shuffle=True, stratify=Ydataset_1\n",
    ")\n",
    "Xtrain_2, Xtest_2, Ytrain_2, Ytest_2 = train_test_split(\n",
    "    Xdataset_2, Ydataset_2, test_size=0.3, random_state=0, shuffle=True, stratify=Ydataset_2\n",
    ")\n",
    "Xtrain_3, Xtest_3, Ytrain_3, Ytest_3 = train_test_split(\n",
    "    Xdataset_3, Ydataset_3, test_size=0.3, random_state=0, shuffle=True, stratify=Ydataset_3\n",
    ")\n",
    "# Xvalid, Xtest, Yvalid, Ytest = train_test_split(\n",
    "#     Xvalid, Yvalid, test_size=0.5, random_state=0, shuffle=True, stratify=Yvalid\n",
    "# )\n"
   ]
  },
  {
   "cell_type": "code",
   "execution_count": 9,
   "metadata": {
    "_uuid": "0d27733cb409a2731f529f314c1f88a9fd0e95e6",
    "collapsed": true
   },
   "outputs": [],
   "source": [
    "# from sklearn.preprocessing import LabelEncoder\n",
    "# le = LabelEncoder()\n",
    "# le.fit_transform"
   ]
  },
  {
   "cell_type": "code",
   "execution_count": 10,
   "metadata": {
    "_uuid": "96d2f5af1fea1dbbcf20e960f0cfb1ab99bdaa86",
    "collapsed": true
   },
   "outputs": [],
   "source": [
    "from sklearn.preprocessing import MinMaxScaler\n",
    "scaler = MinMaxScaler(feature_range=(0, 1))\n",
    "Xtrain_1 = scaler.fit_transform(Xtrain_1)\n",
    "Xtest_1= scaler.transform(Xtest_1)\n",
    "Xtrain_2 = scaler.fit_transform(Xtrain_2)\n",
    "Xtest_2=scaler.transform(Xtest_2)\n",
    "Xtrain_3 = scaler.fit_transform(Xtrain_3)\n",
    "Xtest_3=scaler.transform(Xtest_3)"
   ]
  },
  {
   "cell_type": "code",
   "execution_count": 11,
   "metadata": {
    "_uuid": "ba1d473c158850bed7f71e6616f1244dbb7113a2"
   },
   "outputs": [
    {
     "data": {
      "text/plain": [
       "array([[ 0.13518086,  0.12447694,  0.04283713, ...,  0.12905682,\n",
       "         0.48250576,  0.48384586],\n",
       "       [ 0.12160638,  0.15835771,  0.02823129, ...,  0.23755126,\n",
       "         0.47307751,  0.4743237 ],\n",
       "       [ 0.19836639,  0.22299213,  0.05636255, ...,  0.28160516,\n",
       "         0.46346508,  0.46465511],\n",
       "       ..., \n",
       "       [ 0.14669389,  0.16575928,  0.05416166, ...,  0.20527241,\n",
       "         0.48357636,  0.48486705],\n",
       "       [ 0.07658499,  0.09509561,  0.03205282, ...,  0.11575864,\n",
       "         0.46930161,  0.47052447],\n",
       "       [ 0.35783742,  0.28256468,  0.1334934 , ...,  0.35008787,\n",
       "         0.47098619,  0.47220501]])"
      ]
     },
     "execution_count": 11,
     "metadata": {},
     "output_type": "execute_result"
    }
   ],
   "source": [
    "Xtrain_1"
   ]
  },
  {
   "cell_type": "markdown",
   "metadata": {
    "_uuid": "9c8d6655425991360ddc4b0472c6707e44a89c15"
   },
   "source": [
    "First model is decision tree"
   ]
  },
  {
   "cell_type": "code",
   "execution_count": 12,
   "metadata": {
    "_uuid": "f6940f5c8a26d0ebb1c9226317c812b7957f0188",
    "collapsed": true
   },
   "outputs": [],
   "source": [
    "from sklearn import tree\n",
    "from sklearn.metrics import f1_score , accuracy_score\n",
    "from sklearn.model_selection import StratifiedShuffleSplit\n",
    "from sklearn.model_selection import GridSearchCV\n",
    "from sklearn.metrics import f1_score, accuracy_score, classification_report\n",
    "metrics = ['precision', 'recall']\n",
    "tree_para = {'criterion':['gini','entropy'],'max_depth':[6,7,8,9,10]}"
   ]
  },
  {
   "cell_type": "code",
   "execution_count": null,
   "metadata": {
    "_uuid": "c6fcc3ab45ae31de4b3c23b4c5d1c01e69094a12",
    "collapsed": true
   },
   "outputs": [],
   "source": [
    "model_DT = tree.DecisionTreeClassifier()\n",
    "cv = StratifiedShuffleSplit(n_splits=5, test_size=0.2, random_state=None)\n",
    "\n"
   ]
  },
  {
   "cell_type": "code",
   "execution_count": null,
   "metadata": {
    "_uuid": "6c2b94efdd0a8fb21ee1c025daad9721eb6de6db"
   },
   "outputs": [],
   "source": [
    "\n",
    "# for metric in metrics:\n",
    "#     print(\"# Tuning hyper-parameters for %s\" % metric)\n",
    "#     print()\n",
    "\n",
    "#     tuned_model = GridSearchCV(model_DT, tree_para, cv=cv, scoring='%s_macro' % metric)\n",
    "#     tuned_model.fit(Xtrain_1, Ytrain_1)\n",
    "\n",
    "#     print(\"Best parameters set found on development set:\")\n",
    "#     print()\n",
    "#     print(tuned_model.best_params_)\n",
    "#     print()\n"
   ]
  },
  {
   "cell_type": "markdown",
   "metadata": {},
   "source": [
    "# YOU NEED TO  PUT OPTIMIZED PARAM."
   ]
  },
  {
   "cell_type": "code",
   "execution_count": null,
   "metadata": {
    "collapsed": true
   },
   "outputs": [],
   "source": [
    "# model_DT_optimal = tree.DecisionTreeClassifier(criterion='entropy', max_depth=10)\n",
    "#model_DT_optimal.fit(Xtrain_1, Ytrain_1)   "
   ]
  },
  {
   "cell_type": "code",
   "execution_count": null,
   "metadata": {
    "collapsed": true
   },
   "outputs": [],
   "source": [
    "Ytest_pred_1 = model_DT_optimal.predict(Xtest_1)"
   ]
  },
  {
   "cell_type": "code",
   "execution_count": null,
   "metadata": {
    "collapsed": true
   },
   "outputs": [],
   "source": [
    "# Final evaluation of the model (On the Test dataset)\n",
    "scores_tuned = accuracy_score(Ytest_1, Ytest_pred_1 )\n",
    "print(\"Correct classification rate for the training dataset (best model) = \"+str(scores_tuned*100)+\"%\")"
   ]
  },
  {
   "cell_type": "markdown",
   "metadata": {
    "collapsed": true
   },
   "source": [
    "# The second model Multinomial NB\n"
   ]
  },
  {
   "cell_type": "code",
   "execution_count": 14,
   "metadata": {
    "collapsed": true
   },
   "outputs": [],
   "source": [
    "from sklearn.naive_bayes import MultinomialNB\n",
    "from sklearn.model_selection import StratifiedKFold"
   ]
  },
  {
   "cell_type": "code",
   "execution_count": null,
   "metadata": {
    "collapsed": true
   },
   "outputs": [],
   "source": [
    "skf = StratifiedKFold(n_splits=10, shuffle=True, random_state=0)\n",
    "\n",
    "sum_precision = 0\n",
    "sum_f1_score = 0\n",
    "fold_counter = 0\n",
    "\n",
    "print(\"Naive Bayes Multinomial  with 10 folds\\n\")\n",
    "\n",
    "# Loop through the 10 folds\n",
    "for train_index, test_index in skf.split(Xtrain_2, Ytrain_2):\n",
    "    X_train, X_valid = Xtrain_2[train_index], Xtrain_2[test_index];\n",
    "    Y_train, Y_valid = Ytrain_2[train_index], Ytrain_2[test_index];\n",
    "    \n",
    "    model = MultinomialNB()\n",
    "    model = model.fit(X_train, Y_train)\n",
    "    \n",
    "    Y_valid_pred = model.predict(X_valid)\n",
    "        \n",
    "    precision,_,f1_score,_ = precision_recall_fscore_support(Y_valid, Y_valid_pred, average=\"weighted\")\n",
    "    \n",
    "    sum_precision += precision;\n",
    "    sum_f1_score += f1_score;\n",
    "    fold_counter += 1\n",
    "    print(\"Correct classification rate for fold #\" + str(fold_counter) + \": \" + str(round(precision * 100, 4)) + \"%\")\n",
    "\n",
    "print(\"Correct classification rate: \" + str(round((sum_precision / 10) * 100, 4)) + \"%\")\n",
    "print(\"F1 Score: \" + str(round((sum_precision / 10), 4)))\n"
   ]
  },
  {
   "cell_type": "markdown",
   "metadata": {},
   "source": [
    "# Third Model KNN"
   ]
  },
  {
   "cell_type": "code",
   "execution_count": null,
   "metadata": {
    "collapsed": true
   },
   "outputs": [],
   "source": []
  }
 ],
 "metadata": {
  "kernelspec": {
   "display_name": "Python 3",
   "language": "python",
   "name": "python3"
  },
  "language_info": {
   "codemirror_mode": {
    "name": "ipython",
    "version": 3
   },
   "file_extension": ".py",
   "mimetype": "text/x-python",
   "name": "python",
   "nbconvert_exporter": "python",
   "pygments_lexer": "ipython3",
   "version": "3.6.5"
  }
 },
 "nbformat": 4,
 "nbformat_minor": 1
}
