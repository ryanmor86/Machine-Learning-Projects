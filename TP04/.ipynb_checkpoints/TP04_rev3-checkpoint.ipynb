{
 "cells": [
  {
   "cell_type": "code",
   "execution_count": 77,
   "metadata": {
    "_cell_guid": "b1076dfc-b9ad-4769-8c92-a6c4dae69d19",
    "_kg_hide-input": true,
    "_kg_hide-output": true,
    "_uuid": "8f2839f25d086af736a60e9eeb907d3b93b6e0e5",
    "scrolled": true
   },
   "outputs": [],
   "source": [
    "# This Python 3 environment comes with many helpful analytics libraries installed\n",
    "# It is defined by the kaggle/python docker image: https://github.com/kaggle/docker-python\n",
    "# For example, here's several helpful packages to load in \n",
    "\n",
    "import numpy as np # linear algebra\n",
    "import pandas as pd # data processing, CSV file I/O (e.g. pd.read_csv)\n",
    "np.set_printoptions(suppress=True)\n",
    "\n",
    "# Input data files are available in the \"../input/\" directory.\n",
    "# For example, running this (by clicking run or pressing Shift+Enter) will list the files in the input directory\n",
    "dataset_1=pd.read_csv(\"../input/jmir-derivatives/msd-jmirderivatives_dev.csv\")\n",
    "dataset_2=pd.read_csv(\"../input/marsyas/msd-marsyas_dev_new.csv\")\n",
    "dataset_3=pd.read_csv(\"../input/rhythm-histogram/msd-rh_dev_new.csv\")\n",
    "#print(os.listdir(\"../input/msd-jmirderivatives_dev.csv\"))\n",
    "\n",
    "# Any results you write to the current directory are saved as output."
   ]
  },
  {
   "cell_type": "code",
   "execution_count": 4,
   "metadata": {
    "_cell_guid": "79c7e3d0-c299-4dcb-8224-4455121ee9b0",
    "_uuid": "d629ff2d2480ee46fbb7e2d37f6b5fab8052498a"
   },
   "outputs": [
    {
     "data": {
      "text/html": [
       "<div>\n",
       "<style scoped>\n",
       "    .dataframe tbody tr th:only-of-type {\n",
       "        vertical-align: middle;\n",
       "    }\n",
       "\n",
       "    .dataframe tbody tr th {\n",
       "        vertical-align: top;\n",
       "    }\n",
       "\n",
       "    .dataframe thead th {\n",
       "        text-align: right;\n",
       "    }\n",
       "</style>\n",
       "<table border=\"1\" class=\"dataframe\">\n",
       "  <thead>\n",
       "    <tr style=\"text-align: right;\">\n",
       "      <th></th>\n",
       "      <th>1</th>\n",
       "      <th>TRAAAAK128F9318786</th>\n",
       "      <th>12.853071</th>\n",
       "      <th>10.332411</th>\n",
       "      <th>10.335533</th>\n",
       "      <th>7.868886</th>\n",
       "      <th>7.272001</th>\n",
       "      <th>6.099896</th>\n",
       "      <th>5.53476</th>\n",
       "      <th>4.643962</th>\n",
       "      <th>...</th>\n",
       "      <th>2.275085</th>\n",
       "      <th>2.112406</th>\n",
       "      <th>2.758121</th>\n",
       "      <th>2.090873</th>\n",
       "      <th>1.908192</th>\n",
       "      <th>2.123749</th>\n",
       "      <th>1.88613</th>\n",
       "      <th>2.012004</th>\n",
       "      <th>2.043548</th>\n",
       "      <th>METAL_ALTERNATIVE</th>\n",
       "    </tr>\n",
       "  </thead>\n",
       "  <tbody>\n",
       "    <tr>\n",
       "      <th>0</th>\n",
       "      <td>2</td>\n",
       "      <td>TRAAAAV128F421A322</td>\n",
       "      <td>17.198986</td>\n",
       "      <td>9.442742</td>\n",
       "      <td>4.757221</td>\n",
       "      <td>4.228200</td>\n",
       "      <td>4.539081</td>\n",
       "      <td>4.497560</td>\n",
       "      <td>4.277170</td>\n",
       "      <td>3.594716</td>\n",
       "      <td>...</td>\n",
       "      <td>1.812926</td>\n",
       "      <td>1.528240</td>\n",
       "      <td>1.857964</td>\n",
       "      <td>1.707600</td>\n",
       "      <td>1.458026</td>\n",
       "      <td>1.373432</td>\n",
       "      <td>1.602645</td>\n",
       "      <td>1.737878</td>\n",
       "      <td>1.609511</td>\n",
       "      <td>PUNK</td>\n",
       "    </tr>\n",
       "    <tr>\n",
       "      <th>1</th>\n",
       "      <td>4</td>\n",
       "      <td>TRAAACV128F423E09E</td>\n",
       "      <td>19.389994</td>\n",
       "      <td>17.027159</td>\n",
       "      <td>13.058027</td>\n",
       "      <td>11.155796</td>\n",
       "      <td>9.669224</td>\n",
       "      <td>8.961533</td>\n",
       "      <td>7.499838</td>\n",
       "      <td>6.920094</td>\n",
       "      <td>...</td>\n",
       "      <td>2.506652</td>\n",
       "      <td>2.350971</td>\n",
       "      <td>2.535761</td>\n",
       "      <td>2.718591</td>\n",
       "      <td>2.276181</td>\n",
       "      <td>2.453018</td>\n",
       "      <td>2.511504</td>\n",
       "      <td>2.826884</td>\n",
       "      <td>3.663387</td>\n",
       "      <td>ROCK_NEO_PSYCHEDELIA</td>\n",
       "    </tr>\n",
       "    <tr>\n",
       "      <th>2</th>\n",
       "      <td>5</td>\n",
       "      <td>TRAAAEF128F4273421</td>\n",
       "      <td>11.605080</td>\n",
       "      <td>9.256760</td>\n",
       "      <td>8.724176</td>\n",
       "      <td>8.200969</td>\n",
       "      <td>5.643767</td>\n",
       "      <td>8.921944</td>\n",
       "      <td>5.330176</td>\n",
       "      <td>5.428105</td>\n",
       "      <td>...</td>\n",
       "      <td>1.983979</td>\n",
       "      <td>1.886013</td>\n",
       "      <td>1.614015</td>\n",
       "      <td>1.974214</td>\n",
       "      <td>1.576792</td>\n",
       "      <td>1.651524</td>\n",
       "      <td>1.962007</td>\n",
       "      <td>3.463660</td>\n",
       "      <td>1.802102</td>\n",
       "      <td>POP_INDIE</td>\n",
       "    </tr>\n",
       "    <tr>\n",
       "      <th>3</th>\n",
       "      <td>6</td>\n",
       "      <td>TRAAAFP128F931B4E3</td>\n",
       "      <td>14.023560</td>\n",
       "      <td>11.152698</td>\n",
       "      <td>9.383973</td>\n",
       "      <td>7.436968</td>\n",
       "      <td>8.166128</td>\n",
       "      <td>7.703664</td>\n",
       "      <td>8.503490</td>\n",
       "      <td>7.916817</td>\n",
       "      <td>...</td>\n",
       "      <td>2.760915</td>\n",
       "      <td>3.371663</td>\n",
       "      <td>3.361057</td>\n",
       "      <td>3.515818</td>\n",
       "      <td>11.103334</td>\n",
       "      <td>5.209470</td>\n",
       "      <td>3.003968</td>\n",
       "      <td>3.046713</td>\n",
       "      <td>3.444955</td>\n",
       "      <td>HIP_HOP_RAP</td>\n",
       "    </tr>\n",
       "    <tr>\n",
       "      <th>4</th>\n",
       "      <td>7</td>\n",
       "      <td>TRAAAGR128F425B14B</td>\n",
       "      <td>16.251157</td>\n",
       "      <td>12.928630</td>\n",
       "      <td>11.824451</td>\n",
       "      <td>9.004019</td>\n",
       "      <td>7.283724</td>\n",
       "      <td>9.803689</td>\n",
       "      <td>5.986288</td>\n",
       "      <td>6.647643</td>\n",
       "      <td>...</td>\n",
       "      <td>2.516831</td>\n",
       "      <td>1.955422</td>\n",
       "      <td>2.285945</td>\n",
       "      <td>2.469236</td>\n",
       "      <td>2.305712</td>\n",
       "      <td>1.876578</td>\n",
       "      <td>2.024935</td>\n",
       "      <td>1.924972</td>\n",
       "      <td>2.377372</td>\n",
       "      <td>POP_CONTEMPORARY</td>\n",
       "    </tr>\n",
       "  </tbody>\n",
       "</table>\n",
       "<p>5 rows × 63 columns</p>\n",
       "</div>"
      ],
      "text/plain": [
       "   1  TRAAAAK128F9318786  12.853071  10.332411  10.335533   7.868886  \\\n",
       "0  2  TRAAAAV128F421A322  17.198986   9.442742   4.757221   4.228200   \n",
       "1  4  TRAAACV128F423E09E  19.389994  17.027159  13.058027  11.155796   \n",
       "2  5  TRAAAEF128F4273421  11.605080   9.256760   8.724176   8.200969   \n",
       "3  6  TRAAAFP128F931B4E3  14.023560  11.152698   9.383973   7.436968   \n",
       "4  7  TRAAAGR128F425B14B  16.251157  12.928630  11.824451   9.004019   \n",
       "\n",
       "   7.272001  6.099896   5.53476  4.643962          ...           2.275085  \\\n",
       "0  4.539081  4.497560  4.277170  3.594716          ...           1.812926   \n",
       "1  9.669224  8.961533  7.499838  6.920094          ...           2.506652   \n",
       "2  5.643767  8.921944  5.330176  5.428105          ...           1.983979   \n",
       "3  8.166128  7.703664  8.503490  7.916817          ...           2.760915   \n",
       "4  7.283724  9.803689  5.986288  6.647643          ...           2.516831   \n",
       "\n",
       "   2.112406  2.758121  2.090873   1.908192  2.123749   1.88613  2.012004  \\\n",
       "0  1.528240  1.857964  1.707600   1.458026  1.373432  1.602645  1.737878   \n",
       "1  2.350971  2.535761  2.718591   2.276181  2.453018  2.511504  2.826884   \n",
       "2  1.886013  1.614015  1.974214   1.576792  1.651524  1.962007  3.463660   \n",
       "3  3.371663  3.361057  3.515818  11.103334  5.209470  3.003968  3.046713   \n",
       "4  1.955422  2.285945  2.469236   2.305712  1.876578  2.024935  1.924972   \n",
       "\n",
       "   2.043548     METAL_ALTERNATIVE  \n",
       "0  1.609511                  PUNK  \n",
       "1  3.663387  ROCK_NEO_PSYCHEDELIA  \n",
       "2  1.802102             POP_INDIE  \n",
       "3  3.444955           HIP_HOP_RAP  \n",
       "4  2.377372      POP_CONTEMPORARY  \n",
       "\n",
       "[5 rows x 63 columns]"
      ]
     },
     "execution_count": 4,
     "metadata": {},
     "output_type": "execute_result"
    }
   ],
   "source": [
    "dataset_3.head()"
   ]
  },
  {
   "cell_type": "code",
   "execution_count": 5,
   "metadata": {
    "_uuid": "5435165e2ef1af331b48c2a40afa31e858a16012"
   },
   "outputs": [],
   "source": [
    "dataset_1=dataset_1.iloc[:,2:]\n",
    "dataset_2=dataset_2.iloc[:,2:]\n",
    "dataset_3=dataset_3.iloc[:,2:]"
   ]
  },
  {
   "cell_type": "code",
   "execution_count": 6,
   "metadata": {
    "_uuid": "dea5222f7317419862882abcb8f39010ae9943e4"
   },
   "outputs": [
    {
     "data": {
      "text/html": [
       "<div>\n",
       "<style scoped>\n",
       "    .dataframe tbody tr th:only-of-type {\n",
       "        vertical-align: middle;\n",
       "    }\n",
       "\n",
       "    .dataframe tbody tr th {\n",
       "        vertical-align: top;\n",
       "    }\n",
       "\n",
       "    .dataframe thead th {\n",
       "        text-align: right;\n",
       "    }\n",
       "</style>\n",
       "<table border=\"1\" class=\"dataframe\">\n",
       "  <thead>\n",
       "    <tr style=\"text-align: right;\">\n",
       "      <th></th>\n",
       "      <th>0.132028</th>\n",
       "      <th>0.091345</th>\n",
       "      <th>0.233464</th>\n",
       "      <th>0.086542</th>\n",
       "      <th>-38.999132</th>\n",
       "      <th>2.723627</th>\n",
       "      <th>-0.133527</th>\n",
       "      <th>0.591571</th>\n",
       "      <th>-0.230206</th>\n",
       "      <th>0.419776</th>\n",
       "      <th>...</th>\n",
       "      <th>0.001431</th>\n",
       "      <th>0.001528</th>\n",
       "      <th>0.001541</th>\n",
       "      <th>0.001468</th>\n",
       "      <th>0.001439</th>\n",
       "      <th>0.001304</th>\n",
       "      <th>0.001107</th>\n",
       "      <th>0.17907</th>\n",
       "      <th>1.255948</th>\n",
       "      <th>METAL_ALTERNATIVE</th>\n",
       "    </tr>\n",
       "  </thead>\n",
       "  <tbody>\n",
       "    <tr>\n",
       "      <th>0</th>\n",
       "      <td>0.127183</td>\n",
       "      <td>0.090223</td>\n",
       "      <td>0.242338</td>\n",
       "      <td>0.089374</td>\n",
       "      <td>-41.151760</td>\n",
       "      <td>2.798033</td>\n",
       "      <td>-0.726277</td>\n",
       "      <td>1.631193</td>\n",
       "      <td>-0.228796</td>\n",
       "      <td>0.367150</td>\n",
       "      <td>...</td>\n",
       "      <td>0.000379</td>\n",
       "      <td>0.000384</td>\n",
       "      <td>0.000383</td>\n",
       "      <td>0.000370</td>\n",
       "      <td>0.000342</td>\n",
       "      <td>0.000352</td>\n",
       "      <td>0.000396</td>\n",
       "      <td>0.145435</td>\n",
       "      <td>0.668222</td>\n",
       "      <td>PUNK</td>\n",
       "    </tr>\n",
       "    <tr>\n",
       "      <th>1</th>\n",
       "      <td>0.059328</td>\n",
       "      <td>0.040161</td>\n",
       "      <td>0.093398</td>\n",
       "      <td>0.104772</td>\n",
       "      <td>-43.009619</td>\n",
       "      <td>4.192990</td>\n",
       "      <td>-0.521473</td>\n",
       "      <td>1.670314</td>\n",
       "      <td>0.052299</td>\n",
       "      <td>-0.150498</td>\n",
       "      <td>...</td>\n",
       "      <td>0.000259</td>\n",
       "      <td>0.000271</td>\n",
       "      <td>0.000282</td>\n",
       "      <td>0.000282</td>\n",
       "      <td>0.000269</td>\n",
       "      <td>0.000254</td>\n",
       "      <td>0.000254</td>\n",
       "      <td>0.111322</td>\n",
       "      <td>0.435191</td>\n",
       "      <td>ROCK_NEO_PSYCHEDELIA</td>\n",
       "    </tr>\n",
       "    <tr>\n",
       "      <th>2</th>\n",
       "      <td>0.082033</td>\n",
       "      <td>0.061840</td>\n",
       "      <td>0.137211</td>\n",
       "      <td>0.100236</td>\n",
       "      <td>-43.331360</td>\n",
       "      <td>3.491156</td>\n",
       "      <td>-0.364496</td>\n",
       "      <td>1.199155</td>\n",
       "      <td>-0.476379</td>\n",
       "      <td>0.130939</td>\n",
       "      <td>...</td>\n",
       "      <td>0.000218</td>\n",
       "      <td>0.000214</td>\n",
       "      <td>0.000221</td>\n",
       "      <td>0.000223</td>\n",
       "      <td>0.000213</td>\n",
       "      <td>0.000204</td>\n",
       "      <td>0.000201</td>\n",
       "      <td>0.246681</td>\n",
       "      <td>2.129936</td>\n",
       "      <td>POP_INDIE</td>\n",
       "    </tr>\n",
       "    <tr>\n",
       "      <th>3</th>\n",
       "      <td>0.080589</td>\n",
       "      <td>0.054988</td>\n",
       "      <td>0.399908</td>\n",
       "      <td>0.098947</td>\n",
       "      <td>-42.418817</td>\n",
       "      <td>2.374161</td>\n",
       "      <td>-0.259375</td>\n",
       "      <td>0.153841</td>\n",
       "      <td>-0.101845</td>\n",
       "      <td>-0.163809</td>\n",
       "      <td>...</td>\n",
       "      <td>0.003283</td>\n",
       "      <td>0.003255</td>\n",
       "      <td>0.003185</td>\n",
       "      <td>0.003140</td>\n",
       "      <td>0.003253</td>\n",
       "      <td>0.003282</td>\n",
       "      <td>0.003257</td>\n",
       "      <td>0.218629</td>\n",
       "      <td>1.568039</td>\n",
       "      <td>HIP_HOP_RAP</td>\n",
       "    </tr>\n",
       "    <tr>\n",
       "      <th>4</th>\n",
       "      <td>0.076593</td>\n",
       "      <td>0.048001</td>\n",
       "      <td>0.244860</td>\n",
       "      <td>0.095075</td>\n",
       "      <td>-41.616322</td>\n",
       "      <td>2.692762</td>\n",
       "      <td>-0.217356</td>\n",
       "      <td>0.904691</td>\n",
       "      <td>-0.090575</td>\n",
       "      <td>0.451840</td>\n",
       "      <td>...</td>\n",
       "      <td>0.002038</td>\n",
       "      <td>0.002048</td>\n",
       "      <td>0.002011</td>\n",
       "      <td>0.001999</td>\n",
       "      <td>0.002039</td>\n",
       "      <td>0.002013</td>\n",
       "      <td>0.001974</td>\n",
       "      <td>0.192679</td>\n",
       "      <td>0.967168</td>\n",
       "      <td>POP_CONTEMPORARY</td>\n",
       "    </tr>\n",
       "  </tbody>\n",
       "</table>\n",
       "<p>5 rows × 125 columns</p>\n",
       "</div>"
      ],
      "text/plain": [
       "   0.132028  0.091345  0.233464  0.086542  -38.999132  2.723627  -0.133527  \\\n",
       "0  0.127183  0.090223  0.242338  0.089374  -41.151760  2.798033  -0.726277   \n",
       "1  0.059328  0.040161  0.093398  0.104772  -43.009619  4.192990  -0.521473   \n",
       "2  0.082033  0.061840  0.137211  0.100236  -43.331360  3.491156  -0.364496   \n",
       "3  0.080589  0.054988  0.399908  0.098947  -42.418817  2.374161  -0.259375   \n",
       "4  0.076593  0.048001  0.244860  0.095075  -41.616322  2.692762  -0.217356   \n",
       "\n",
       "   0.591571  -0.230206  0.419776          ...           0.001431  0.001528  \\\n",
       "0  1.631193  -0.228796  0.367150          ...           0.000379  0.000384   \n",
       "1  1.670314   0.052299 -0.150498          ...           0.000259  0.000271   \n",
       "2  1.199155  -0.476379  0.130939          ...           0.000218  0.000214   \n",
       "3  0.153841  -0.101845 -0.163809          ...           0.003283  0.003255   \n",
       "4  0.904691  -0.090575  0.451840          ...           0.002038  0.002048   \n",
       "\n",
       "   0.001541  0.001468  0.001439  0.001304  0.001107   0.17907  1.255948  \\\n",
       "0  0.000383  0.000370  0.000342  0.000352  0.000396  0.145435  0.668222   \n",
       "1  0.000282  0.000282  0.000269  0.000254  0.000254  0.111322  0.435191   \n",
       "2  0.000221  0.000223  0.000213  0.000204  0.000201  0.246681  2.129936   \n",
       "3  0.003185  0.003140  0.003253  0.003282  0.003257  0.218629  1.568039   \n",
       "4  0.002011  0.001999  0.002039  0.002013  0.001974  0.192679  0.967168   \n",
       "\n",
       "      METAL_ALTERNATIVE  \n",
       "0                  PUNK  \n",
       "1  ROCK_NEO_PSYCHEDELIA  \n",
       "2             POP_INDIE  \n",
       "3           HIP_HOP_RAP  \n",
       "4      POP_CONTEMPORARY  \n",
       "\n",
       "[5 rows x 125 columns]"
      ]
     },
     "execution_count": 6,
     "metadata": {},
     "output_type": "execute_result"
    }
   ],
   "source": [
    "dataset_2.head()"
   ]
  },
  {
   "cell_type": "code",
   "execution_count": 7,
   "metadata": {
    "_uuid": "a723cc4518a074962061c40884f4e71e82c1e13d"
   },
   "outputs": [
    {
     "name": "stdout",
     "output_type": "stream",
     "text": [
      "(179554, 61)\n"
     ]
    }
   ],
   "source": [
    "\n",
    "print(dataset_3.shape)"
   ]
  },
  {
   "cell_type": "code",
   "execution_count": 8,
   "metadata": {
    "_uuid": "1429266f6b2f04aad19d14ee8a09f3d522302479"
   },
   "outputs": [],
   "source": [
    "Xdataset_1=dataset_1.iloc[:,0:96]\n",
    "Ydataset_1=dataset_1.iloc[:,96]\n",
    "Xdataset_2=dataset_2.iloc[:,0:124]\n",
    "Ydataset_2=dataset_2.iloc[:,124]\n",
    "Xdataset_3=dataset_3.iloc[:,0:60]\n",
    "Ydataset_3=dataset_3.iloc[:,60]"
   ]
  },
  {
   "cell_type": "code",
   "execution_count": 9,
   "metadata": {
    "_uuid": "4e592f42d5af7b02b59fa4ba939a52cf7ae2c407"
   },
   "outputs": [
    {
     "data": {
      "text/plain": [
       "0                    PUNK\n",
       "1    ROCK_NEO_PSYCHEDELIA\n",
       "2               POP_INDIE\n",
       "3             HIP_HOP_RAP\n",
       "4        POP_CONTEMPORARY\n",
       "Name: METAL_ALTERNATIVE, dtype: object"
      ]
     },
     "execution_count": 9,
     "metadata": {},
     "output_type": "execute_result"
    }
   ],
   "source": [
    "Ydataset_1.head()"
   ]
  },
  {
   "cell_type": "markdown",
   "metadata": {
    "_uuid": "e0514287c84a3c2e6b51114addfe783fd301ae27"
   },
   "source": [
    "Split the data into 70% training and 30% test"
   ]
  },
  {
   "cell_type": "code",
   "execution_count": 10,
   "metadata": {
    "_uuid": "0b0b273858744dac34e319d41906b9a28e914801"
   },
   "outputs": [],
   "source": [
    "from sklearn.model_selection import train_test_split\n",
    "\n",
    "Xtrain_1, Xtest_1, Ytrain_1, Ytest_1 = train_test_split(\n",
    "    Xdataset_1, Ydataset_1, test_size=0.3, random_state=0, shuffle=True, stratify=Ydataset_1\n",
    ")\n",
    "Xtrain_2, Xtest_2, Ytrain_2, Ytest_2 = train_test_split(\n",
    "    Xdataset_2, Ydataset_2, test_size=0.3, random_state=0, shuffle=True, stratify=Ydataset_2\n",
    ")\n",
    "Xtrain_3, Xtest_3, Ytrain_3, Ytest_3 = train_test_split(\n",
    "    Xdataset_3, Ydataset_3, test_size=0.3, random_state=0, shuffle=True, stratify=Ydataset_3\n",
    ")"
   ]
  },
  {
   "cell_type": "code",
   "execution_count": 70,
   "metadata": {},
   "outputs": [],
   "source": [
    "np.set_printoptions(precision=4)"
   ]
  },
  {
   "cell_type": "code",
   "execution_count": 12,
   "metadata": {
    "_uuid": "96d2f5af1fea1dbbcf20e960f0cfb1ab99bdaa86"
   },
   "outputs": [],
   "source": [
    "from sklearn.preprocessing import MinMaxScaler\n",
    "scaler = MinMaxScaler(feature_range=(0, 1))\n",
    "Xtrain_1 = scaler.fit_transform(Xtrain_1)\n",
    "Xtest_1 = scaler.transform(Xtest_1)\n",
    "Xtrain_2 = scaler.fit_transform(Xtrain_2)\n",
    "Xtest_2=  scaler.transform(Xtest_2)\n",
    "Xtrain_3 = scaler.fit_transform(Xtrain_3)\n",
    "Xtest_3 = scaler.transform(Xtest_3)"
   ]
  },
  {
   "cell_type": "code",
   "execution_count": 34,
   "metadata": {},
   "outputs": [
    {
     "data": {
      "text/plain": [
       "array([[1.15820882e-01, 1.14812601e-01, 9.24935375e-02, ...,\n",
       "        5.05293551e-03, 2.03797283e-01, 7.86407193e-08],\n",
       "       [9.08066716e-02, 5.27318606e-02, 2.08421890e-01, ...,\n",
       "        8.45765159e-02, 1.44017312e-01, 2.20846931e-08],\n",
       "       [1.82985762e-01, 1.31199730e-01, 1.67313086e-01, ...,\n",
       "        4.80028874e-02, 1.87919342e-01, 2.05399836e-08],\n",
       "       ...,\n",
       "       [1.66392126e-01, 1.42763879e-01, 3.84225202e-01, ...,\n",
       "        1.51948989e-01, 6.20232874e-01, 6.94160072e-07],\n",
       "       [8.37858276e-02, 7.37255779e-02, 5.73886020e-02, ...,\n",
       "        1.28729548e-02, 2.01924621e-01, 3.76086902e-08],\n",
       "       [2.20578772e-01, 1.68098279e-01, 2.07928686e-01, ...,\n",
       "        1.10683349e-01, 2.12736631e-01, 5.62301735e-08]])"
      ]
     },
     "execution_count": 34,
     "metadata": {},
     "output_type": "execute_result"
    }
   ],
   "source": [
    "Xtest_2"
   ]
  },
  {
   "cell_type": "code",
   "execution_count": 13,
   "metadata": {
    "_uuid": "ba1d473c158850bed7f71e6616f1244dbb7113a2"
   },
   "outputs": [
    {
     "data": {
      "text/plain": [
       "array([[0.13518086, 0.12447694, 0.04283713, ..., 0.12905682, 0.48250576,\n",
       "        0.48384586],\n",
       "       [0.12160638, 0.15835771, 0.02823129, ..., 0.23755126, 0.47307751,\n",
       "        0.4743237 ],\n",
       "       [0.19836639, 0.22299213, 0.05636255, ..., 0.28160516, 0.46346508,\n",
       "        0.46465511],\n",
       "       ...,\n",
       "       [0.14669389, 0.16575928, 0.05416166, ..., 0.20527241, 0.48357636,\n",
       "        0.48486705],\n",
       "       [0.07658499, 0.09509561, 0.03205282, ..., 0.11575864, 0.46930161,\n",
       "        0.47052447],\n",
       "       [0.35783742, 0.28256468, 0.1334934 , ..., 0.35008787, 0.47098619,\n",
       "        0.47220501]])"
      ]
     },
     "execution_count": 13,
     "metadata": {},
     "output_type": "execute_result"
    }
   ],
   "source": [
    "Xtrain_1"
   ]
  },
  {
   "cell_type": "markdown",
   "metadata": {
    "_uuid": "9c8d6655425991360ddc4b0472c6707e44a89c15"
   },
   "source": [
    "First model is decision tree"
   ]
  },
  {
   "cell_type": "code",
   "execution_count": 29,
   "metadata": {
    "_uuid": "f6940f5c8a26d0ebb1c9226317c812b7957f0188"
   },
   "outputs": [],
   "source": [
    "from sklearn import tree\n",
    "from sklearn.model_selection import StratifiedShuffleSplit\n",
    "from sklearn.model_selection import GridSearchCV\n",
    "from sklearn.naive_bayes import GaussianNB\n",
    "from sklearn.metrics import f1_score, accuracy_score, classification_report, precision_recall_fscore_support\n",
    "metrics = ['precision', 'recall']\n",
    "tree_para = {'criterion':['gini','entropy'],'max_depth':[6,7,8,9,10]}"
   ]
  },
  {
   "cell_type": "code",
   "execution_count": 15,
   "metadata": {
    "_uuid": "5ba8598e9aa14816771f034b7270ddedbb8f620f"
   },
   "outputs": [],
   "source": [
    "model_DT = tree.DecisionTreeClassifier()\n",
    "cv = StratifiedShuffleSplit(n_splits=5, test_size=0.2, random_state=None)\n"
   ]
  },
  {
   "cell_type": "code",
   "execution_count": 14,
   "metadata": {
    "_uuid": "c6fcc3ab45ae31de4b3c23b4c5d1c01e69094a12"
   },
   "outputs": [
    {
     "name": "stdout",
     "output_type": "stream",
     "text": [
      "# Tuning hyper-parameters for precision\n",
      "\n"
     ]
    },
    {
     "name": "stderr",
     "output_type": "stream",
     "text": [
      "/opt/conda/lib/python3.6/site-packages/sklearn/metrics/classification.py:1142: UndefinedMetricWarning: Precision is ill-defined and being set to 0.0 in labels with no predicted samples.\n",
      "  'precision', 'predicted', average, warn_for)\n",
      "/opt/conda/lib/python3.6/site-packages/sklearn/metrics/classification.py:1142: UndefinedMetricWarning: Precision is ill-defined and being set to 0.0 in labels with no predicted samples.\n",
      "  'precision', 'predicted', average, warn_for)\n",
      "/opt/conda/lib/python3.6/site-packages/sklearn/metrics/classification.py:1142: UndefinedMetricWarning: Precision is ill-defined and being set to 0.0 in labels with no predicted samples.\n",
      "  'precision', 'predicted', average, warn_for)\n",
      "/opt/conda/lib/python3.6/site-packages/sklearn/metrics/classification.py:1142: UndefinedMetricWarning: Precision is ill-defined and being set to 0.0 in labels with no predicted samples.\n",
      "  'precision', 'predicted', average, warn_for)\n",
      "/opt/conda/lib/python3.6/site-packages/sklearn/metrics/classification.py:1142: UndefinedMetricWarning: Precision is ill-defined and being set to 0.0 in labels with no predicted samples.\n",
      "  'precision', 'predicted', average, warn_for)\n",
      "/opt/conda/lib/python3.6/site-packages/sklearn/metrics/classification.py:1142: UndefinedMetricWarning: Precision is ill-defined and being set to 0.0 in labels with no predicted samples.\n",
      "  'precision', 'predicted', average, warn_for)\n",
      "/opt/conda/lib/python3.6/site-packages/sklearn/metrics/classification.py:1142: UndefinedMetricWarning: Precision is ill-defined and being set to 0.0 in labels with no predicted samples.\n",
      "  'precision', 'predicted', average, warn_for)\n",
      "/opt/conda/lib/python3.6/site-packages/sklearn/metrics/classification.py:1142: UndefinedMetricWarning: Precision is ill-defined and being set to 0.0 in labels with no predicted samples.\n",
      "  'precision', 'predicted', average, warn_for)\n",
      "/opt/conda/lib/python3.6/site-packages/sklearn/metrics/classification.py:1142: UndefinedMetricWarning: Precision is ill-defined and being set to 0.0 in labels with no predicted samples.\n",
      "  'precision', 'predicted', average, warn_for)\n",
      "/opt/conda/lib/python3.6/site-packages/sklearn/metrics/classification.py:1142: UndefinedMetricWarning: Precision is ill-defined and being set to 0.0 in labels with no predicted samples.\n",
      "  'precision', 'predicted', average, warn_for)\n",
      "/opt/conda/lib/python3.6/site-packages/sklearn/metrics/classification.py:1142: UndefinedMetricWarning: Precision is ill-defined and being set to 0.0 in labels with no predicted samples.\n",
      "  'precision', 'predicted', average, warn_for)\n",
      "/opt/conda/lib/python3.6/site-packages/sklearn/metrics/classification.py:1142: UndefinedMetricWarning: Precision is ill-defined and being set to 0.0 in labels with no predicted samples.\n",
      "  'precision', 'predicted', average, warn_for)\n",
      "/opt/conda/lib/python3.6/site-packages/sklearn/metrics/classification.py:1142: UndefinedMetricWarning: Precision is ill-defined and being set to 0.0 in labels with no predicted samples.\n",
      "  'precision', 'predicted', average, warn_for)\n",
      "/opt/conda/lib/python3.6/site-packages/sklearn/metrics/classification.py:1142: UndefinedMetricWarning: Precision is ill-defined and being set to 0.0 in labels with no predicted samples.\n",
      "  'precision', 'predicted', average, warn_for)\n",
      "/opt/conda/lib/python3.6/site-packages/sklearn/metrics/classification.py:1142: UndefinedMetricWarning: Precision is ill-defined and being set to 0.0 in labels with no predicted samples.\n",
      "  'precision', 'predicted', average, warn_for)\n",
      "/opt/conda/lib/python3.6/site-packages/sklearn/metrics/classification.py:1142: UndefinedMetricWarning: Precision is ill-defined and being set to 0.0 in labels with no predicted samples.\n",
      "  'precision', 'predicted', average, warn_for)\n",
      "/opt/conda/lib/python3.6/site-packages/sklearn/metrics/classification.py:1142: UndefinedMetricWarning: Precision is ill-defined and being set to 0.0 in labels with no predicted samples.\n",
      "  'precision', 'predicted', average, warn_for)\n",
      "/opt/conda/lib/python3.6/site-packages/sklearn/metrics/classification.py:1142: UndefinedMetricWarning: Precision is ill-defined and being set to 0.0 in labels with no predicted samples.\n",
      "  'precision', 'predicted', average, warn_for)\n",
      "/opt/conda/lib/python3.6/site-packages/sklearn/metrics/classification.py:1142: UndefinedMetricWarning: Precision is ill-defined and being set to 0.0 in labels with no predicted samples.\n",
      "  'precision', 'predicted', average, warn_for)\n",
      "/opt/conda/lib/python3.6/site-packages/sklearn/metrics/classification.py:1142: UndefinedMetricWarning: Precision is ill-defined and being set to 0.0 in labels with no predicted samples.\n",
      "  'precision', 'predicted', average, warn_for)\n",
      "/opt/conda/lib/python3.6/site-packages/sklearn/metrics/classification.py:1142: UndefinedMetricWarning: Precision is ill-defined and being set to 0.0 in labels with no predicted samples.\n",
      "  'precision', 'predicted', average, warn_for)\n",
      "/opt/conda/lib/python3.6/site-packages/sklearn/metrics/classification.py:1142: UndefinedMetricWarning: Precision is ill-defined and being set to 0.0 in labels with no predicted samples.\n",
      "  'precision', 'predicted', average, warn_for)\n",
      "/opt/conda/lib/python3.6/site-packages/sklearn/metrics/classification.py:1142: UndefinedMetricWarning: Precision is ill-defined and being set to 0.0 in labels with no predicted samples.\n",
      "  'precision', 'predicted', average, warn_for)\n",
      "/opt/conda/lib/python3.6/site-packages/sklearn/metrics/classification.py:1142: UndefinedMetricWarning: Precision is ill-defined and being set to 0.0 in labels with no predicted samples.\n",
      "  'precision', 'predicted', average, warn_for)\n",
      "/opt/conda/lib/python3.6/site-packages/sklearn/metrics/classification.py:1142: UndefinedMetricWarning: Precision is ill-defined and being set to 0.0 in labels with no predicted samples.\n",
      "  'precision', 'predicted', average, warn_for)\n",
      "/opt/conda/lib/python3.6/site-packages/sklearn/metrics/classification.py:1142: UndefinedMetricWarning: Precision is ill-defined and being set to 0.0 in labels with no predicted samples.\n",
      "  'precision', 'predicted', average, warn_for)\n",
      "/opt/conda/lib/python3.6/site-packages/sklearn/metrics/classification.py:1142: UndefinedMetricWarning: Precision is ill-defined and being set to 0.0 in labels with no predicted samples.\n",
      "  'precision', 'predicted', average, warn_for)\n",
      "/opt/conda/lib/python3.6/site-packages/sklearn/metrics/classification.py:1142: UndefinedMetricWarning: Precision is ill-defined and being set to 0.0 in labels with no predicted samples.\n",
      "  'precision', 'predicted', average, warn_for)\n",
      "/opt/conda/lib/python3.6/site-packages/sklearn/metrics/classification.py:1142: UndefinedMetricWarning: Precision is ill-defined and being set to 0.0 in labels with no predicted samples.\n",
      "  'precision', 'predicted', average, warn_for)\n",
      "/opt/conda/lib/python3.6/site-packages/sklearn/metrics/classification.py:1142: UndefinedMetricWarning: Precision is ill-defined and being set to 0.0 in labels with no predicted samples.\n",
      "  'precision', 'predicted', average, warn_for)\n",
      "/opt/conda/lib/python3.6/site-packages/sklearn/metrics/classification.py:1142: UndefinedMetricWarning: Precision is ill-defined and being set to 0.0 in labels with no predicted samples.\n",
      "  'precision', 'predicted', average, warn_for)\n",
      "/opt/conda/lib/python3.6/site-packages/sklearn/metrics/classification.py:1142: UndefinedMetricWarning: Precision is ill-defined and being set to 0.0 in labels with no predicted samples.\n",
      "  'precision', 'predicted', average, warn_for)\n",
      "/opt/conda/lib/python3.6/site-packages/sklearn/metrics/classification.py:1142: UndefinedMetricWarning: Precision is ill-defined and being set to 0.0 in labels with no predicted samples.\n",
      "  'precision', 'predicted', average, warn_for)\n",
      "/opt/conda/lib/python3.6/site-packages/sklearn/metrics/classification.py:1142: UndefinedMetricWarning: Precision is ill-defined and being set to 0.0 in labels with no predicted samples.\n",
      "  'precision', 'predicted', average, warn_for)\n",
      "/opt/conda/lib/python3.6/site-packages/sklearn/metrics/classification.py:1142: UndefinedMetricWarning: Precision is ill-defined and being set to 0.0 in labels with no predicted samples.\n",
      "  'precision', 'predicted', average, warn_for)\n",
      "/opt/conda/lib/python3.6/site-packages/sklearn/metrics/classification.py:1142: UndefinedMetricWarning: Precision is ill-defined and being set to 0.0 in labels with no predicted samples.\n",
      "  'precision', 'predicted', average, warn_for)\n"
     ]
    },
    {
     "name": "stderr",
     "output_type": "stream",
     "text": [
      "/opt/conda/lib/python3.6/site-packages/sklearn/metrics/classification.py:1142: UndefinedMetricWarning: Precision is ill-defined and being set to 0.0 in labels with no predicted samples.\n",
      "  'precision', 'predicted', average, warn_for)\n",
      "/opt/conda/lib/python3.6/site-packages/sklearn/metrics/classification.py:1142: UndefinedMetricWarning: Precision is ill-defined and being set to 0.0 in labels with no predicted samples.\n",
      "  'precision', 'predicted', average, warn_for)\n",
      "/opt/conda/lib/python3.6/site-packages/sklearn/metrics/classification.py:1142: UndefinedMetricWarning: Precision is ill-defined and being set to 0.0 in labels with no predicted samples.\n",
      "  'precision', 'predicted', average, warn_for)\n",
      "/opt/conda/lib/python3.6/site-packages/sklearn/metrics/classification.py:1142: UndefinedMetricWarning: Precision is ill-defined and being set to 0.0 in labels with no predicted samples.\n",
      "  'precision', 'predicted', average, warn_for)\n",
      "/opt/conda/lib/python3.6/site-packages/sklearn/metrics/classification.py:1142: UndefinedMetricWarning: Precision is ill-defined and being set to 0.0 in labels with no predicted samples.\n",
      "  'precision', 'predicted', average, warn_for)\n",
      "/opt/conda/lib/python3.6/site-packages/sklearn/metrics/classification.py:1142: UndefinedMetricWarning: Precision is ill-defined and being set to 0.0 in labels with no predicted samples.\n",
      "  'precision', 'predicted', average, warn_for)\n",
      "/opt/conda/lib/python3.6/site-packages/sklearn/metrics/classification.py:1142: UndefinedMetricWarning: Precision is ill-defined and being set to 0.0 in labels with no predicted samples.\n",
      "  'precision', 'predicted', average, warn_for)\n",
      "/opt/conda/lib/python3.6/site-packages/sklearn/metrics/classification.py:1142: UndefinedMetricWarning: Precision is ill-defined and being set to 0.0 in labels with no predicted samples.\n",
      "  'precision', 'predicted', average, warn_for)\n",
      "/opt/conda/lib/python3.6/site-packages/sklearn/metrics/classification.py:1142: UndefinedMetricWarning: Precision is ill-defined and being set to 0.0 in labels with no predicted samples.\n",
      "  'precision', 'predicted', average, warn_for)\n",
      "/opt/conda/lib/python3.6/site-packages/sklearn/metrics/classification.py:1142: UndefinedMetricWarning: Precision is ill-defined and being set to 0.0 in labels with no predicted samples.\n",
      "  'precision', 'predicted', average, warn_for)\n",
      "/opt/conda/lib/python3.6/site-packages/sklearn/metrics/classification.py:1142: UndefinedMetricWarning: Precision is ill-defined and being set to 0.0 in labels with no predicted samples.\n",
      "  'precision', 'predicted', average, warn_for)\n",
      "/opt/conda/lib/python3.6/site-packages/sklearn/metrics/classification.py:1142: UndefinedMetricWarning: Precision is ill-defined and being set to 0.0 in labels with no predicted samples.\n",
      "  'precision', 'predicted', average, warn_for)\n",
      "/opt/conda/lib/python3.6/site-packages/sklearn/metrics/classification.py:1142: UndefinedMetricWarning: Precision is ill-defined and being set to 0.0 in labels with no predicted samples.\n",
      "  'precision', 'predicted', average, warn_for)\n",
      "/opt/conda/lib/python3.6/site-packages/sklearn/metrics/classification.py:1142: UndefinedMetricWarning: Precision is ill-defined and being set to 0.0 in labels with no predicted samples.\n",
      "  'precision', 'predicted', average, warn_for)\n",
      "/opt/conda/lib/python3.6/site-packages/sklearn/metrics/classification.py:1142: UndefinedMetricWarning: Precision is ill-defined and being set to 0.0 in labels with no predicted samples.\n",
      "  'precision', 'predicted', average, warn_for)\n",
      "/opt/conda/lib/python3.6/site-packages/sklearn/metrics/classification.py:1142: UndefinedMetricWarning: Precision is ill-defined and being set to 0.0 in labels with no predicted samples.\n",
      "  'precision', 'predicted', average, warn_for)\n",
      "/opt/conda/lib/python3.6/site-packages/sklearn/metrics/classification.py:1142: UndefinedMetricWarning: Precision is ill-defined and being set to 0.0 in labels with no predicted samples.\n",
      "  'precision', 'predicted', average, warn_for)\n",
      "/opt/conda/lib/python3.6/site-packages/sklearn/metrics/classification.py:1142: UndefinedMetricWarning: Precision is ill-defined and being set to 0.0 in labels with no predicted samples.\n",
      "  'precision', 'predicted', average, warn_for)\n",
      "/opt/conda/lib/python3.6/site-packages/sklearn/metrics/classification.py:1142: UndefinedMetricWarning: Precision is ill-defined and being set to 0.0 in labels with no predicted samples.\n",
      "  'precision', 'predicted', average, warn_for)\n",
      "/opt/conda/lib/python3.6/site-packages/sklearn/metrics/classification.py:1142: UndefinedMetricWarning: Precision is ill-defined and being set to 0.0 in labels with no predicted samples.\n",
      "  'precision', 'predicted', average, warn_for)\n",
      "/opt/conda/lib/python3.6/site-packages/sklearn/metrics/classification.py:1142: UndefinedMetricWarning: Precision is ill-defined and being set to 0.0 in labels with no predicted samples.\n",
      "  'precision', 'predicted', average, warn_for)\n",
      "/opt/conda/lib/python3.6/site-packages/sklearn/metrics/classification.py:1142: UndefinedMetricWarning: Precision is ill-defined and being set to 0.0 in labels with no predicted samples.\n",
      "  'precision', 'predicted', average, warn_for)\n",
      "/opt/conda/lib/python3.6/site-packages/sklearn/metrics/classification.py:1142: UndefinedMetricWarning: Precision is ill-defined and being set to 0.0 in labels with no predicted samples.\n",
      "  'precision', 'predicted', average, warn_for)\n",
      "/opt/conda/lib/python3.6/site-packages/sklearn/metrics/classification.py:1142: UndefinedMetricWarning: Precision is ill-defined and being set to 0.0 in labels with no predicted samples.\n",
      "  'precision', 'predicted', average, warn_for)\n",
      "/opt/conda/lib/python3.6/site-packages/sklearn/metrics/classification.py:1142: UndefinedMetricWarning: Precision is ill-defined and being set to 0.0 in labels with no predicted samples.\n",
      "  'precision', 'predicted', average, warn_for)\n",
      "/opt/conda/lib/python3.6/site-packages/sklearn/metrics/classification.py:1142: UndefinedMetricWarning: Precision is ill-defined and being set to 0.0 in labels with no predicted samples.\n",
      "  'precision', 'predicted', average, warn_for)\n",
      "/opt/conda/lib/python3.6/site-packages/sklearn/metrics/classification.py:1142: UndefinedMetricWarning: Precision is ill-defined and being set to 0.0 in labels with no predicted samples.\n",
      "  'precision', 'predicted', average, warn_for)\n",
      "/opt/conda/lib/python3.6/site-packages/sklearn/metrics/classification.py:1142: UndefinedMetricWarning: Precision is ill-defined and being set to 0.0 in labels with no predicted samples.\n",
      "  'precision', 'predicted', average, warn_for)\n",
      "/opt/conda/lib/python3.6/site-packages/sklearn/metrics/classification.py:1142: UndefinedMetricWarning: Precision is ill-defined and being set to 0.0 in labels with no predicted samples.\n",
      "  'precision', 'predicted', average, warn_for)\n",
      "/opt/conda/lib/python3.6/site-packages/sklearn/metrics/classification.py:1142: UndefinedMetricWarning: Precision is ill-defined and being set to 0.0 in labels with no predicted samples.\n",
      "  'precision', 'predicted', average, warn_for)\n",
      "/opt/conda/lib/python3.6/site-packages/sklearn/metrics/classification.py:1142: UndefinedMetricWarning: Precision is ill-defined and being set to 0.0 in labels with no predicted samples.\n",
      "  'precision', 'predicted', average, warn_for)\n",
      "/opt/conda/lib/python3.6/site-packages/sklearn/metrics/classification.py:1142: UndefinedMetricWarning: Precision is ill-defined and being set to 0.0 in labels with no predicted samples.\n",
      "  'precision', 'predicted', average, warn_for)\n",
      "/opt/conda/lib/python3.6/site-packages/sklearn/metrics/classification.py:1142: UndefinedMetricWarning: Precision is ill-defined and being set to 0.0 in labels with no predicted samples.\n",
      "  'precision', 'predicted', average, warn_for)\n",
      "/opt/conda/lib/python3.6/site-packages/sklearn/metrics/classification.py:1142: UndefinedMetricWarning: Precision is ill-defined and being set to 0.0 in labels with no predicted samples.\n",
      "  'precision', 'predicted', average, warn_for)\n",
      "/opt/conda/lib/python3.6/site-packages/sklearn/metrics/classification.py:1142: UndefinedMetricWarning: Precision is ill-defined and being set to 0.0 in labels with no predicted samples.\n",
      "  'precision', 'predicted', average, warn_for)\n",
      "/opt/conda/lib/python3.6/site-packages/sklearn/metrics/classification.py:1142: UndefinedMetricWarning: Precision is ill-defined and being set to 0.0 in labels with no predicted samples.\n",
      "  'precision', 'predicted', average, warn_for)\n"
     ]
    },
    {
     "name": "stderr",
     "output_type": "stream",
     "text": [
      "/opt/conda/lib/python3.6/site-packages/sklearn/metrics/classification.py:1142: UndefinedMetricWarning: Precision is ill-defined and being set to 0.0 in labels with no predicted samples.\n",
      "  'precision', 'predicted', average, warn_for)\n",
      "/opt/conda/lib/python3.6/site-packages/sklearn/metrics/classification.py:1142: UndefinedMetricWarning: Precision is ill-defined and being set to 0.0 in labels with no predicted samples.\n",
      "  'precision', 'predicted', average, warn_for)\n"
     ]
    },
    {
     "name": "stdout",
     "output_type": "stream",
     "text": [
      "Best parameters set found on development set:\n",
      "\n",
      "{'criterion': 'gini', 'max_depth': 10}\n",
      "\n",
      "# Tuning hyper-parameters for recall\n",
      "\n",
      "Best parameters set found on development set:\n",
      "\n",
      "{'criterion': 'entropy', 'max_depth': 10}\n",
      "\n"
     ]
    }
   ],
   "source": [
    "#for metric in metrics:\n",
    "#    print(\"# Tuning hyper-parameters for %s\" % metric)\n",
    "#    print()\n",
    "\n",
    "#    tuned_model = GridSearchCV(model_DT, tree_para, cv=cv, scoring='%s_macro' % metric)\n",
    "#    tuned_model.fit(Xtrain_1, Ytrain_1)\n",
    "\n",
    "#    print(\"Best parameters set found on development set:\")\n",
    "#    print()\n",
    "#    print(tuned_model.best_params_)\n",
    "#    print()"
   ]
  },
  {
   "cell_type": "markdown",
   "metadata": {
    "_uuid": "b69e6a181c79b902d15732797ca8876f8bc492f6"
   },
   "source": [
    "The second model Multinomial NB"
   ]
  },
  {
   "cell_type": "code",
   "execution_count": 16,
   "metadata": {
    "_uuid": "3155b066ccc4a196222cb56e0a7515b786b34432"
   },
   "outputs": [],
   "source": [
    "from sklearn.naive_bayes import MultinomialNB\n",
    "from sklearn.model_selection import StratifiedKFold"
   ]
  },
  {
   "cell_type": "code",
   "execution_count": 17,
   "metadata": {
    "_uuid": "d6c85823b6cbe97064978d6558db22d1cee1d966"
   },
   "outputs": [
    {
     "data": {
      "text/plain": [
       "array([ 5,  4,  9, ...,  3, 19, 16])"
      ]
     },
     "execution_count": 17,
     "metadata": {},
     "output_type": "execute_result"
    }
   ],
   "source": [
    "from sklearn.preprocessing import LabelEncoder\n",
    "le = LabelEncoder()\n",
    "Ytrain_2 = le.fit_transform(Ytrain_2)\n",
    "Ytest_2 = le.fit_transform(Ytest_2)\n",
    "Ytest_2"
   ]
  },
  {
   "cell_type": "code",
   "execution_count": 18,
   "metadata": {
    "_uuid": "f5ef9158b18bd89eb49edf5a422563ea09210d1d",
    "scrolled": true
   },
   "outputs": [
    {
     "name": "stdout",
     "output_type": "stream",
     "text": [
      "Naive Bayes Multinomial with 20 folds\n",
      "\n"
     ]
    },
    {
     "ename": "NameError",
     "evalue": "name 'precision_recall_fscore_support' is not defined",
     "output_type": "error",
     "traceback": [
      "\u001b[0;31m---------------------------------------------------------------------------\u001b[0m",
      "\u001b[0;31mNameError\u001b[0m                                 Traceback (most recent call last)",
      "\u001b[0;32m<ipython-input-18-51264198b244>\u001b[0m in \u001b[0;36m<module>\u001b[0;34m()\u001b[0m\n\u001b[1;32m     19\u001b[0m     \u001b[0mY_valid_pred\u001b[0m \u001b[0;34m=\u001b[0m \u001b[0mmodel_NB\u001b[0m\u001b[0;34m.\u001b[0m\u001b[0mpredict\u001b[0m\u001b[0;34m(\u001b[0m\u001b[0mX_valid\u001b[0m\u001b[0;34m)\u001b[0m\u001b[0;34m\u001b[0m\u001b[0m\n\u001b[1;32m     20\u001b[0m \u001b[0;34m\u001b[0m\u001b[0m\n\u001b[0;32m---> 21\u001b[0;31m     \u001b[0mprecision\u001b[0m\u001b[0;34m,\u001b[0m\u001b[0m_\u001b[0m\u001b[0;34m,\u001b[0m\u001b[0mf1_score\u001b[0m\u001b[0;34m,\u001b[0m\u001b[0m_\u001b[0m \u001b[0;34m=\u001b[0m \u001b[0mprecision_recall_fscore_support\u001b[0m\u001b[0;34m(\u001b[0m\u001b[0mY_valid\u001b[0m\u001b[0;34m,\u001b[0m \u001b[0mY_valid_pred\u001b[0m\u001b[0;34m,\u001b[0m \u001b[0maverage\u001b[0m\u001b[0;34m=\u001b[0m\u001b[0;34m\"weighted\"\u001b[0m\u001b[0;34m)\u001b[0m\u001b[0;34m\u001b[0m\u001b[0m\n\u001b[0m\u001b[1;32m     22\u001b[0m \u001b[0;34m\u001b[0m\u001b[0m\n\u001b[1;32m     23\u001b[0m     \u001b[0msum_precision\u001b[0m \u001b[0;34m+=\u001b[0m \u001b[0mprecision\u001b[0m\u001b[0;34m;\u001b[0m\u001b[0;34m\u001b[0m\u001b[0m\n",
      "\u001b[0;31mNameError\u001b[0m: name 'precision_recall_fscore_support' is not defined"
     ]
    }
   ],
   "source": [
    "n_folds = 20\n",
    "\n",
    "skf = StratifiedKFold(n_splits=n_folds, shuffle=True, random_state=0)\n",
    "\n",
    "sum_precision = 0\n",
    "sum_f1_score = 0\n",
    "fold_counter = 0\n",
    "\n",
    "print(\"Naive Bayes Multinomial with \" + str(n_folds) + \" folds\\n\")\n",
    "\n",
    "# Loop through the 10 folds\n",
    "for train_index, test_index in skf.split(Xtrain_2, Ytrain_2):\n",
    "    X_train, X_valid = Xtrain_2[train_index], Xtrain_2[test_index];\n",
    "    Y_train, Y_valid = Ytrain_2[train_index], Ytrain_2[test_index];\n",
    "    \n",
    "    model_NB = MultinomialNB()\n",
    "    model_NB = model_NB.fit(X_train, Y_train)\n",
    "    \n",
    "    Y_valid_pred = model_NB.predict(X_valid)\n",
    "        \n",
    "    precision,_,f1_score,_ = precision_recall_fscore_support(Y_valid, Y_valid_pred, average=\"weighted\")\n",
    "    \n",
    "    sum_precision += precision;\n",
    "    sum_f1_score += f1_score;\n",
    "    fold_counter += 1\n",
    "    print(\"Correct classification rate for fold #\" + str(fold_counter) + \": \" + str(round(precision * 100, 4)) + \"%\")\n",
    "\n",
    "print(\"Correct classification rate: \" + str(round((sum_precision / n_folds) * 100, 4)) + \"%\")\n",
    "print(\"F1 Score: \" + str(round((sum_precision / n_folds), 4)))\n"
   ]
  },
  {
   "cell_type": "markdown",
   "metadata": {
    "_uuid": "352d9d3416c59a81757828f213073153e177941b"
   },
   "source": [
    "Third Model KNN"
   ]
  },
  {
   "cell_type": "code",
   "execution_count": 19,
   "metadata": {
    "_uuid": "0c66fb44fefd28b29f941df3773685640707beb4",
    "scrolled": true
   },
   "outputs": [],
   "source": [
    "from sklearn import neighbors\n",
    "\n",
    "cv = StratifiedShuffleSplit(n_splits=5, test_size=0.2, random_state=None)\n",
    "metrics = ['precision', 'recall']\n",
    "knn_para = {'n_neighbors':[3, 5, 10]}\n",
    "model_KNN = neighbors.KNeighborsClassifier(weights='uniform', algorithm='kd_tree', \n",
    "                                           metric='euclidean')\n",
    "\n",
    "#for metric in metrics:\n",
    "#    print(\"# Tuning hyper-parameters for %s\" % metric)\n",
    "#    print()\n",
    "\n",
    "#    tuned_model = GridSearchCV(model_KNN, knn_para, cv=cv, scoring='%s_macro' % metric, n_jobs=12)\n",
    "#    tuned_model.fit(Xtrain_3, Ytrain_3)\n",
    "\n",
    "#    print(\"Best parameters set found on development set:\")\n",
    "#    print()\n",
    "#    print(tuned_model.best_params_)\n",
    "#    print()   \n"
   ]
  },
  {
   "cell_type": "code",
   "execution_count": 20,
   "metadata": {
    "scrolled": true
   },
   "outputs": [
    {
     "ename": "NameError",
     "evalue": "name 'Ytest_pred_1' is not defined",
     "output_type": "error",
     "traceback": [
      "\u001b[0;31m---------------------------------------------------------------------------\u001b[0m",
      "\u001b[0;31mNameError\u001b[0m                                 Traceback (most recent call last)",
      "\u001b[0;32m<ipython-input-20-60598785955e>\u001b[0m in \u001b[0;36m<module>\u001b[0;34m()\u001b[0m\n\u001b[1;32m      1\u001b[0m \u001b[0;32mfrom\u001b[0m \u001b[0msklearn\u001b[0m\u001b[0;34m.\u001b[0m\u001b[0mmetrics\u001b[0m \u001b[0;32mimport\u001b[0m \u001b[0mclassification_report\u001b[0m\u001b[0;34m\u001b[0m\u001b[0m\n\u001b[1;32m      2\u001b[0m \u001b[0;34m\u001b[0m\u001b[0m\n\u001b[0;32m----> 3\u001b[0;31m \u001b[0mprint\u001b[0m\u001b[0;34m(\u001b[0m\u001b[0mclassification_report\u001b[0m\u001b[0;34m(\u001b[0m\u001b[0mYtest_1\u001b[0m\u001b[0;34m,\u001b[0m \u001b[0mYtest_pred_1\u001b[0m\u001b[0;34m)\u001b[0m\u001b[0;34m)\u001b[0m\u001b[0;34m\u001b[0m\u001b[0m\n\u001b[0m\u001b[1;32m      4\u001b[0m \u001b[0mprint\u001b[0m\u001b[0;34m(\u001b[0m\u001b[0mclassification_report\u001b[0m\u001b[0;34m(\u001b[0m\u001b[0mYtest_2\u001b[0m\u001b[0;34m,\u001b[0m \u001b[0mYtest_pred_2\u001b[0m\u001b[0;34m)\u001b[0m\u001b[0;34m)\u001b[0m\u001b[0;34m\u001b[0m\u001b[0m\n\u001b[1;32m      5\u001b[0m \u001b[0mprint\u001b[0m\u001b[0;34m(\u001b[0m\u001b[0mclassification_report\u001b[0m\u001b[0;34m(\u001b[0m\u001b[0mYtest_3\u001b[0m\u001b[0;34m,\u001b[0m \u001b[0mYtest_pred_3\u001b[0m\u001b[0;34m)\u001b[0m\u001b[0;34m)\u001b[0m\u001b[0;34m\u001b[0m\u001b[0m\n",
      "\u001b[0;31mNameError\u001b[0m: name 'Ytest_pred_1' is not defined"
     ]
    }
   ],
   "source": [
    "from sklearn.metrics import classification_report\n",
    "\n",
    "print(classification_report(Ytest_1, Ytest_pred_1))\n",
    "print(classification_report(Ytest_2, Ytest_pred_2))\n",
    "print(classification_report(Ytest_3, Ytest_pred_3))"
   ]
  },
  {
   "cell_type": "code",
   "execution_count": 21,
   "metadata": {},
   "outputs": [],
   "source": [
    "from sklearn.ensemble import VotingClassifier\n",
    "\n",
    "# Building the Ensemble \n",
    "# Combination with MAJORITY VOTE (labels only)\n",
    "\n",
    "def ENSEMBLE_model_3():\n",
    "    print(\"Majority Vote of Decision Tree, Naive Bayes and KNN\\n\")\n",
    "    model = VotingClassifier(estimators = [ ('DT', model_DT_optimal), ('NB', model_NB) , ('SVM', model_KNN_optimal) ], \n",
    "                             voting = 'hard',\n",
    "                             n_jobs = 3) \n",
    "    return model\n",
    "\n",
    "def ENSEMBLE_model_3s():\n",
    "    \n",
    "    model = VotingClassifier(estimators = [ ('DT', model_DT_optimal), ('NB', model_NB) , ('SVM', model_KNN_optimal) ], \n",
    "                             voting = 'soft',\n",
    "                             n_jobs = 3,\n",
    "                             weights=[0.05,0.15,0.8]) \n",
    "    return model"
   ]
  },
  {
   "cell_type": "code",
   "execution_count": 22,
   "metadata": {},
   "outputs": [],
   "source": [
    "model_DT_DS1 = tree.DecisionTreeClassifier(criterion='entropy', min_samples_leaf=10, max_depth=10)\n",
    "model_DT_DS2 = tree.DecisionTreeClassifier(criterion='entropy', min_samples_leaf=10, max_depth=10)\n",
    "model_DT_DS3 = tree.DecisionTreeClassifier(criterion='entropy', min_samples_leaf=10, max_depth=10)\n",
    "\n",
    "model_NB_DS1 = GaussianNB()\n",
    "model_NB_DS2 = GaussianNB()\n",
    "model_NB_DS3 = GaussianNB()\n",
    "\n",
    "model_KNN_DS1 = neighbors.KNeighborsClassifier(n_neighbors=10, weights='uniform', algorithm='kd_tree', metric='euclidean')\n",
    "model_KNN_DS2 = neighbors.KNeighborsClassifier(n_neighbors=10, weights='uniform', algorithm='kd_tree', metric='euclidean')\n",
    "model_KNN_DS3 = neighbors.KNeighborsClassifier(n_neighbors=10, weights='uniform', algorithm='kd_tree', metric='euclidean')\n",
    "\n",
    "model_ENSEMBLE_DS1 = VotingClassifier(estimators = [ ('DT', model_DT_DS1), ('NB', model_NB_DS1) , ('KNN', model_KNN_DS1) ], voting = 'hard', n_jobs = 3) \n",
    "model_ENSEMBLE_DS2 = VotingClassifier(estimators = [ ('DT', model_DT_DS1), ('NB', model_NB_DS2) , ('KNN', model_KNN_DS2) ], voting = 'hard', n_jobs = 3)\n",
    "model_ENSEMBLE_DS3 = VotingClassifier(estimators = [ ('DT', model_DT_DS1), ('NB', model_NB_DS3) , ('KNN', model_KNN_DS3) ], voting = 'hard', n_jobs = 3)"
   ]
  },
  {
   "cell_type": "code",
   "execution_count": 23,
   "metadata": {},
   "outputs": [
    {
     "data": {
      "text/plain": [
       "VotingClassifier(estimators=[('DT', DecisionTreeClassifier(class_weight=None, criterion='entropy', max_depth=10,\n",
       "            max_features=None, max_leaf_nodes=None,\n",
       "            min_impurity_decrease=0.0, min_impurity_split=None,\n",
       "            min_samples_leaf=10, min_samples_split=2,\n",
       "            min_weight_fraction_le...dean',\n",
       "           metric_params=None, n_jobs=1, n_neighbors=10, p=2,\n",
       "           weights='uniform'))],\n",
       "         flatten_transform=None, n_jobs=3, voting='hard', weights=None)"
      ]
     },
     "execution_count": 23,
     "metadata": {},
     "output_type": "execute_result"
    }
   ],
   "source": [
    "model_DT_DS1.fit(Xtrain_1, Ytrain_1)\n",
    "model_DT_DS2.fit(Xtrain_2, Ytrain_2)\n",
    "model_DT_DS3.fit(Xtrain_3, Ytrain_3)\n",
    "\n",
    "model_NB_DS1.fit(Xtrain_1, Ytrain_1)\n",
    "model_NB_DS2.fit(Xtrain_2, Ytrain_2)\n",
    "model_NB_DS3.fit(Xtrain_3, Ytrain_3)\n",
    "\n",
    "model_KNN_DS1.fit(Xtrain_1, Ytrain_1)\n",
    "model_KNN_DS2.fit(Xtrain_2, Ytrain_2)\n",
    "model_KNN_DS3.fit(Xtrain_3, Ytrain_3)\n",
    "\n",
    "#model_BAG_DS1.fit(Xtrain_1, Ytrain_1)\n",
    "#model_BAG_DS2.fit(Xtrain_2, Ytrain_2)\n",
    "#model_BAG_DS3.fit(Xtrain_3, Ytrain_3)\n",
    "\n",
    "model_ENSEMBLE_DS1.fit(Xtrain_1, Ytrain_1)\n",
    "model_ENSEMBLE_DS2.fit(Xtrain_2, Ytrain_2)\n",
    "model_ENSEMBLE_DS3.fit(Xtrain_3, Ytrain_3)"
   ]
  },
  {
   "cell_type": "code",
   "execution_count": 24,
   "metadata": {
    "scrolled": true
   },
   "outputs": [
    {
     "name": "stderr",
     "output_type": "stream",
     "text": [
      "/home/alexandre/miniconda3/envs/gti770/lib/python3.6/site-packages/sklearn/preprocessing/label.py:151: DeprecationWarning: The truth value of an empty array is ambiguous. Returning False, but in future this will result in an error. Use `array.size > 0` to check that an array is not empty.\n",
      "  if diff:\n",
      "/home/alexandre/miniconda3/envs/gti770/lib/python3.6/site-packages/sklearn/preprocessing/label.py:151: DeprecationWarning: The truth value of an empty array is ambiguous. Returning False, but in future this will result in an error. Use `array.size > 0` to check that an array is not empty.\n",
      "  if diff:\n",
      "/home/alexandre/miniconda3/envs/gti770/lib/python3.6/site-packages/sklearn/preprocessing/label.py:151: DeprecationWarning: The truth value of an empty array is ambiguous. Returning False, but in future this will result in an error. Use `array.size > 0` to check that an array is not empty.\n",
      "  if diff:\n"
     ]
    }
   ],
   "source": [
    "Ytest_pred_DT_DS1 = model_DT_DS1.predict(Xtest_1)\n",
    "Ytest_pred_DT_DS2 = model_DT_DS2.predict(Xtest_2)\n",
    "Ytest_pred_DT_DS3 = model_DT_DS3.predict(Xtest_3)\n",
    "\n",
    "Ytest_pred_NB_DS1 = model_NB_DS1.predict(Xtest_1)\n",
    "Ytest_pred_NB_DS2 = model_NB_DS2.predict(Xtest_2)\n",
    "Ytest_pred_NB_DS3 = model_NB_DS3.predict(Xtest_3)\n",
    "\n",
    "Ytest_pred_KNN_DS1 = model_KNN_DS1.predict(Xtest_1)\n",
    "Ytest_pred_KNN_DS2 = model_KNN_DS2.predict(Xtest_2)\n",
    "Ytest_pred_KNN_DS3 = model_KNN_DS3.predict(Xtest_3)\n",
    "\n",
    "#Ytest_pred_BAG_DS1 = model_BAG_DS1.predict(Xtest_1)\n",
    "#Ytest_pred_BAG_DS2 = model_BAG_DS2.predict(Xtest_2)\n",
    "#Ytest_pred_BAG_DS3 = model_BAG_DS3.predict(Xtest_3)\n",
    "\n",
    "Ytest_pred_ENSEMBLE_DS1  = model_ENSEMBLE_DS1.predict(Xtest_1)\n",
    "Ytest_pred_ENSEMBLE_DS2  = model_ENSEMBLE_DS2.predict(Xtest_2)\n",
    "Ytest_pred_ENSEMBLE_DS3  = model_ENSEMBLE_DS3.predict(Xtest_3)"
   ]
  },
  {
   "cell_type": "code",
   "execution_count": 83,
   "metadata": {
    "scrolled": true
   },
   "outputs": [
    {
     "name": "stdout",
     "output_type": "stream",
     "text": [
      "Classification rate for the test dataset (Decision Tree, jmir-derivatives) = 18.218946664934005%\n",
      "Classification rate for the test dataset (Decision Tree, marsyas) = 20.637867339929826%\n",
      "Classification rate for the test dataset (Decision Tree, rhythm-histogram) = 14.23134757829469%\n",
      "\n",
      "Classification rate for the test dataset (Naive Bayes, jmir-derivatives) = 12.632966380158539%\n",
      "Classification rate for the test dataset (Naive Bayes, marsyas) = 13.81365214324169%\n",
      "Classification rate for the test dataset (Naive Bayes, rhythm-histogram) = 12.350789908478289%\n",
      "\n",
      "Classification rate for the test dataset (k-NN, jmir-derivatives) = 19.847030649562814%\n",
      "Classification rate for the test dataset (k-NN, marsyas) = 26.613696697421428%\n",
      "Classification rate for the test dataset (k-NN, rhythm-histogram) = 15.161416080346038%\n",
      "\n",
      "Classification rate for the test dataset (Ensemble, jmir-derivatives) = 17.121799988861454%\n",
      "Classification rate for the test dataset (Ensemble, marsyas) = 20.500491952401283%\n",
      "Classification rate for the test dataset (Ensemble, rhythm-histogram) = 14.543226836467596%\n",
      "\n"
     ]
    }
   ],
   "source": [
    "# Evaluation metrics\n",
    "from sklearn.metrics import accuracy_score\n",
    "from sklearn.metrics import confusion_matrix\n",
    "\n",
    "# Final evaluation of the model (On the Test dataset)\n",
    "\n",
    "# Decision Tree\n",
    "scores_tst_DT_DS1 = accuracy_score(Ytest_1,  Ytest_pred_DT_DS1)\n",
    "print(\"Classification rate for the test dataset (Decision Tree, jmir-derivatives) = \"+str(scores_tst_DT_DS1*100)+\"%\")\n",
    "scores_tst_DT_DS2 = accuracy_score(Ytest_2,  Ytest_pred_DT_DS2)\n",
    "print(\"Classification rate for the test dataset (Decision Tree, marsyas) = \"+str(scores_tst_DT_DS2*100)+\"%\")\n",
    "scores_tst_DT_DS3 = accuracy_score(Ytest_3,  Ytest_pred_DT_DS3)\n",
    "print(\"Classification rate for the test dataset (Decision Tree, rhythm-histogram) = \"+str(scores_tst_DT_DS3*100)+\"%\\n\")\n",
    "\n",
    "# Naive Bayes Gaussian\n",
    "scores_tst_NB_DS1 = accuracy_score(Ytest_1,  Ytest_pred_NB_DS1)\n",
    "print(\"Classification rate for the test dataset (Naive Bayes, jmir-derivatives) = \"+str(scores_tst_NB_DS1*100)+\"%\")\n",
    "scores_tst_NB_DS2 = accuracy_score(Ytest_2,  Ytest_pred_NB_DS2)\n",
    "print(\"Classification rate for the test dataset (Naive Bayes, marsyas) = \"+str(scores_tst_NB_DS2*100)+\"%\")\n",
    "scores_tst_NB_DS3 = accuracy_score(Ytest_3,  Ytest_pred_NB_DS3)\n",
    "print(\"Classification rate for the test dataset (Naive Bayes, rhythm-histogram) = \"+str(scores_tst_NB_DS3*100)+\"%\\n\")\n",
    "\n",
    "# K-NN\n",
    "scores_tst_KNN_DS1 = accuracy_score(Ytest_1,  Ytest_pred_KNN_DS1)\n",
    "print(\"Classification rate for the test dataset (k-NN, jmir-derivatives) = \"+str(scores_tst_KNN_DS1*100)+\"%\")\n",
    "scores_tst_KNN_DS2 = accuracy_score(Ytest_2,  Ytest_pred_KNN_DS2)\n",
    "print(\"Classification rate for the test dataset (k-NN, marsyas) = \"+str(scores_tst_KNN_DS2*100)+\"%\")\n",
    "scores_tst_KNN_DS3 = accuracy_score(Ytest_3,  Ytest_pred_KNN_DS3)\n",
    "print(\"Classification rate for the test dataset (k-NN, rhythm-histogram) = \"+str(scores_tst_KNN_DS3*100)+\"%\\n\")\n",
    "\n",
    "# Bagging\n",
    "#scores_tst_BAG_DS1 = accuracy_score(Ytest_1,  Ytest_pred_BAG_DS1)\n",
    "#print(\"Classification rate for the test dataset (Bagging, jmir-derivatives) = \"+str(scores_tst_BAG_DS1*100)+\"%\")\n",
    "#scores_tst_BAG_DS2 = accuracy_score(Ytest_2,  Ytest_pred_BAG_DS2)\n",
    "#print(\"Classification rate for the test dataset (Bagging, marsyas) = \"+str(scores_tst_BAG_DS2*100)+\"%\")\n",
    "#scores_tst_BAG_DS3 = accuracy_score(Ytest_3,  Ytest_pred_BAG_DS3)\n",
    "#print(\"Classification rate for the test dataset (Bagging, rhythm-histogram) = \"+str(scores_tst_BAG_DS3*100)+\"%\")\n",
    "\n",
    "# ENSEMBLE\n",
    "scores_tst_ENSEMBLE_DS1 = accuracy_score(Ytest_1,  Ytest_pred_ENSEMBLE_DS1)\n",
    "print(\"Classification rate for the test dataset (Ensemble, jmir-derivatives) = \"+str(scores_tst_ENSEMBLE_DS1*100)+\"%\")\n",
    "scores_tst_ENSEMBLE_DS2 = accuracy_score(Ytest_2,  Ytest_pred_ENSEMBLE_DS2)\n",
    "print(\"Classification rate for the test dataset (Ensemble, marsyas) = \"+str(scores_tst_ENSEMBLE_DS2*100)+\"%\")\n",
    "scores_tst_ENSEMBLE_DS3 = accuracy_score(Ytest_3,  Ytest_pred_ENSEMBLE_DS3)\n",
    "print(\"Classification rate for the test dataset (Ensemble, rhythm-histogram) = \"+str(scores_tst_ENSEMBLE_DS3*100)+\"%\\n\")"
   ]
  },
  {
   "cell_type": "code",
   "execution_count": 31,
   "metadata": {},
   "outputs": [],
   "source": [
    "scores_tst_DT_DS1_precision, _, scores_tst_DT_DS1_f1score, _ = precision_recall_fscore_support(Ytest_1, Ytest_pred_DT_DS1, average=\"weighted\")\n",
    "scores_tst_DT_DS2_precision, _, scores_tst_DT_DS2_f1score, _ = precision_recall_fscore_support(Ytest_2, Ytest_pred_DT_DS2, average=\"weighted\")\n",
    "scores_tst_DT_DS3_precision, _, scores_tst_DT_DS3_f1score, _ = precision_recall_fscore_support(Ytest_3, Ytest_pred_DT_DS3, average=\"weighted\")\n",
    "\n",
    "scores_tst_NB_DS1_precision, _, scores_tst_NB_DS1_f1score, _ = precision_recall_fscore_support(Ytest_1, Ytest_pred_NB_DS1, average=\"weighted\")\n",
    "scores_tst_NB_DS2_precision, _, scores_tst_NB_DS2_f1score, _ = precision_recall_fscore_support(Ytest_2, Ytest_pred_NB_DS2, average=\"weighted\")\n",
    "scores_tst_NB_DS3_precision, _, scores_tst_NB_DS3_f1score, _ = precision_recall_fscore_support(Ytest_3, Ytest_pred_NB_DS3, average=\"weighted\")\n",
    "\n",
    "scores_tst_KNN_DS1_precision, _, scores_tst_KNN_DS1_f1score, _ = precision_recall_fscore_support(Ytest_1, Ytest_pred_KNN_DS1, average=\"weighted\")\n",
    "scores_tst_KNN_DS2_precision, _, scores_tst_KNN_DS2_f1score, _ = precision_recall_fscore_support(Ytest_2, Ytest_pred_KNN_DS2, average=\"weighted\")\n",
    "scores_tst_KNN_DS3_precision, _, scores_tst_KNN_DS3_f1score, _ = precision_recall_fscore_support(Ytest_3, Ytest_pred_KNN_DS3, average=\"weighted\")\n",
    "\n",
    "scores_tst_ENSEMBLE_DS1_precision, _, scores_tst_ENSEMBLE_DS1_f1score, _ = precision_recall_fscore_support(Ytest_1, Ytest_pred_ENSEMBLE_DS1, average=\"weighted\")\n",
    "scores_tst_ENSEMBLE_DS2_precision, _, scores_tst_ENSEMBLE_DS2_f1score, _ = precision_recall_fscore_support(Ytest_2, Ytest_pred_ENSEMBLE_DS2, average=\"weighted\")\n",
    "scores_tst_ENSEMBLE_DS3_precision, _, scores_tst_ENSEMBLE_DS3_f1score, _ = precision_recall_fscore_support(Ytest_3, Ytest_pred_ENSEMBLE_DS3, average=\"weighted\")"
   ]
  },
  {
   "cell_type": "code",
   "execution_count": 32,
   "metadata": {
    "scrolled": true
   },
   "outputs": [
    {
     "name": "stdout",
     "output_type": "stream",
     "text": [
      "[0.16592311312785707, 0.13325969989435493, 0.18969766473357688, 0.1901156962880904]\n"
     ]
    },
    {
     "data": {
      "image/png": "[encoded data removed]",
      "text/plain": [
       "<Figure size 1080x576 with 2 Axes>"
      ]
     },
     "metadata": {},
     "output_type": "display_data"
    }
   ],
   "source": [
    "import matplotlib.pyplot as plt\n",
    "%matplotlib inline\n",
    "\n",
    "fig, axes = plt.subplots(nrows=1, ncols=2, figsize=(15,8))\n",
    "ax0, ax1 = axes.flatten()\n",
    "\n",
    "x = np.array([1,2,3]).astype(np.float)\n",
    "\n",
    "print([scores_tst_DT_DS1_precision, scores_tst_NB_DS1_precision, scores_tst_KNN_DS1_precision, scores_tst_ENSEMBLE_DS1_precision])\n",
    "ax0.bar(x-0.3, [scores_tst_DT_DS1_precision, scores_tst_DT_DS2_precision, scores_tst_DT_DS3_precision], align='center', width=0.2)\n",
    "ax0.bar(x-0.1, [scores_tst_NB_DS1_precision, scores_tst_NB_DS2_precision, scores_tst_NB_DS3_precision], align='center', width=0.2)\n",
    "ax0.bar(x+0.1, [scores_tst_KNN_DS1_precision, scores_tst_KNN_DS2_precision, scores_tst_KNN_DS3_precision], align='center', width=0.2)\n",
    "ax0.bar(x+0.3, [scores_tst_ENSEMBLE_DS1_precision, scores_tst_ENSEMBLE_DS2_precision, scores_tst_ENSEMBLE_DS3_precision], align='center', width=0.2)\n",
    "ax0.legend(['Decision Tree','Naives Bayes','KNN', 'Ensemble'])\n",
    "ax0.set_xticks([1, 2, 3])\n",
    "ax0.set_xticklabels(['jmir-derivatives', 'marsyas', 'rhythm-histogram'])\n",
    "ax0.set_title('Accuracy on different feature sets (%)')\n",
    "\n",
    "ax1.bar(x-0.3, [scores_tst_DT_DS1_f1score, scores_tst_DT_DS2_f1score, scores_tst_DT_DS3_f1score], align='center', width=0.2)\n",
    "ax1.bar(x-0.1, [scores_tst_NB_DS1_f1score, scores_tst_NB_DS2_f1score, scores_tst_NB_DS3_f1score], align='center', width=0.2)\n",
    "ax1.bar(x+0.1, [scores_tst_KNN_DS1_f1score, scores_tst_KNN_DS2_f1score, scores_tst_KNN_DS3_f1score], align='center', width=0.2)\n",
    "ax1.bar(x+0.3, [scores_tst_ENSEMBLE_DS1_f1score, scores_tst_ENSEMBLE_DS2_f1score, scores_tst_ENSEMBLE_DS3_f1score], align='center', width=0.2)\n",
    "ax1.legend(['Decision Tree','Naives Bayes','KNN', 'Ensemble'])\n",
    "ax1.set_xticks([1, 2, 3])\n",
    "ax1.set_xticklabels(['jmir-derivatives', 'marsyas', 'rhythm-histogram'])\n",
    "ax1.set_title('F1 Score on different feature sets (%)')\n",
    "\n",
    "plt.show()\n"
   ]
  },
  {
   "cell_type": "code",
   "execution_count": 88,
   "metadata": {},
   "outputs": [
    {
     "name": "stderr",
     "output_type": "stream",
     "text": [
      "/home/alexandre/miniconda3/envs/gti770/lib/python3.6/site-packages/sklearn/preprocessing/label.py:151: DeprecationWarning: The truth value of an empty array is ambiguous. Returning False, but in future this will result in an error. Use `array.size > 0` to check that an array is not empty.\n",
      "  if diff:\n"
     ]
    }
   ],
   "source": [
    "from sklearn.preprocessing import MinMaxScaler\n",
    "scaler = MinMaxScaler(feature_range=(0, 1))\n",
    "\n",
    "csv_input = pd.read_csv(\"../input/msd-marsyas_test_new_nolabels/msd-marsyas_test_new_nolabels.csv\", header=None)\n",
    "\n",
    "dataset_to_predict = csv_input.iloc[:,2:126].values\n",
    "dataset_to_predict = scaler.fit_transform(dataset_to_predict)\n",
    "\n",
    "predicted_labels = model_ENSEMBLE_DS2.predict(dataset_to_predict)\n"
   ]
  },
  {
   "cell_type": "code",
   "execution_count": 89,
   "metadata": {},
   "outputs": [],
   "source": [
    "df = pd.DataFrame({ 'ID': csv_input.iloc[:,1], 'Label': predicted_labels})\n",
    "    \n",
    "df.to_csv('output.csv', index=False)"
   ]
  },
  {
   "cell_type": "code",
   "execution_count": 90,
   "metadata": {},
   "outputs": [
    {
     "name": "stdout",
     "output_type": "stream",
     "text": [
      "[ 9  6  9 ... 12  6 18]\n"
     ]
    }
   ],
   "source": [
    "print(predicted_labels)"
   ]
  },
  {
   "attachments": {
    "image.png": {
     "image/png": "[encoded data removed]"
    }
   },
   "cell_type": "markdown",
   "metadata": {},
   "source": [
    "**1. Avec les liens fournis en l’annexe de cet énoncé et avec vos trouvailles faites sur Internet par le biais de vos recherches personnelles, faites, à titre d’introduction, une revue de la littérature. Expliquez en quelques paragraphes comment nous réussissons aujourd’hui à classifier différents sons et pièces musicales automatiquement afin de bien comprendre le sujet sur lequel vous travaillez.**\n",
    "\n",
    "De nos jours, il n’est plus nécessaire d’avoir des étiquettes ou même de l’information texte sur un enregistrement musical pour pouvoir le classifier. Il est possible d’extraire directement d’un fichier musical des caractéristiques qui permettent cette classification. Parmi ces caractéristiques, il y a l’analyse du rythme, les variations fréquentielles, la forme du spectrographe à un certain moment et bien d’autres. Les caractéristiques peuvent donc être extraites et mesurées pour chaque fichier musical. Ces mesures permettent ensuite de créer des représentations du fichier qui à leur tour permettront de les classifier.\n",
    "\n",
    "À l’aide des mesures de caractéristiques, il est maintenant possible d’évaluer les préférences musicales d’un individu. Il suffit d’utiliser la musique qu’il écoute et ainsi estimer la musique qui pourrait lui plaire. Les récentes recherches démontrent aussi que l’extraction de caractéristiques faite par ordinateur possède un niveau de précision similaire à la même extraction faite par un humain. Cela permet donc de conclure que l’efficacité d’analyse d’un fichier musical par ordinateur a beaucoup évolué  et est maintenant une évaluation fiable de la musique.\n",
    "\n",
    "Finalement, des logiciels et applications comme Spotify utilisent l’extraction de caractéristiques. Ils collectent les informations sur ce que l’utilisateur écoute actuellement et recommande ensuite de la musique qui possède des caractéristiques similaires. Bien sûr, ils utilisent d’abord les informations qu’ils ont déjà, mais utilisent les caractéristiques pour aider leurs recommandations. Cela prouve donc que l’extraction des caractéristiques de fichier musical est bel et bien utilisée aujourd’hui et fonctionne très bien.\n",
    "\n",
    "**2. Quelle est la configuration (machine, matériel, versions logiciel) de votre environnement? Quelle a été votre approche de partitionnement des données? Quels ensembles de primitives avez-vous choisis? Quelle méthode de validation avez-vous utilisée afin de confectionner vos modèles? Quelles étapes supplémentaires avez-vous eu à effectuer en prétraitement (normalisation, balancement, réduction de dimensionnalité, etc.)?**\n",
    "\n",
    "La configuration de l’environnement utilisée pour ce laboratoire est un PC avec Linux Ubuntu 18.04, processeur AMD Ryzen 5 1600 (6 coeurs, 12 threads), SSD Samsung 850 EVO, 16 GB RAM. Les versions des logiciels utilisées sont Python 3.6.5, jupyter 1.0.0, graphviz 2.40.1, numpy 1.14.5, pandas 0.23.1, matplotlib 2.2.2, scikit-learn 0.19.1.\n",
    "\n",
    "Pour le partitionnement des données, l’équipe a choisi d’utiliser la méthode cross-validation. C’était une méthode simple à utiliser qui permettait de séparer les données en plusieurs groupes. Cette méthode permettait aussi de séparer les données de façon égale selon leurs étiquettes. Il y avait donc un entraînement équitable et, par la suite, des tests équitables.\n",
    "\n",
    "Les ensembles de primitives utilisés dans ce laboratoire sont: JMIR Derivatives, MARSYAS et Rhythm Histogram.\n",
    "\n",
    "La méthode de validation utilisée pour confectionner nos 3 modèles est le cross-validation. Pour chacun des modèles, les méthodes StratifiedShuffleSplit ainsi que StratifiedKFold sont utilisées. Ces méthodes de sklearn implémentent directement le cross-validation. Dépendamment du modèle et du temps requis pour effectuer la méthode, le nombre de splits est soit de 5 ou de 20.\t\n",
    "\n",
    "**3. Quels sont les trois modèles d’apprentissage que vous avez décidé d’étudier à titre de classificateur de base? Exprimez les raisons qui vous ont mené à un tel choix. Si vous avez décidé d’implémenter un réseau de neurones, décrivez la structure de votre modèle d’apprentissage par réseau de neurones. Ajoutez tous graphiques ou représentation pertinente afin de décrire votre modèle, par exemple, un graphe TensorBoard si applicable ou un texte descriptif.**\n",
    "\n",
    "Les 3 modèles d’apprentissage utilisés sont l’arbre de décision, le modèle Bayes Naïf ainsi que K-Nearest-Neighbors. Nous avons choisi ces 3 modèles, car il était facile de modifier leurs hyperparamètres afin d’obtenir les meilleurs résultats possibles. C’est aussi 3 modèles très différents et donc ils peuvent créer une combinaison linéaire efficace. Le modèle qui avait été utilisé comme classificateur de base est l’arbre de décision, car après avoir effectué des tests de précision, c’est celui-ci qui avait les meilleurs résultats. Par contre, après avoir tester chaque modèle sur chacun des ensembles de données à la fin, KNN affichait un bien meilleur score. C’est donc ce modèle que l’équipe a utilisé comme classificateur de base.\n",
    "\n",
    "**4. Pour vos trois modèles, présentez les hyperparamètres d’apprentissage et les ensembles de données utilisées ayant menés à votre meilleur résultat de précision (accuracy) et F-measure. Comment ces classificateurs ont-ils performés sur cet ensemble de données ? Discutez des résultats.**\n",
    "\n",
    "Pour le modèle Arbre de décision, les hyperparamètres utilisés dans le laboratoire sont le critère gini avec un max-depth de 10. Ces hyperparamètres ont été trouvés en effectuant un <<tuning>>. Le code python a donc retourner les meilleurs hyperparamètres pour notre situation. Ce modèle a été utilisé sur l’ensemble de données “jmir-derivatives” et a retourné une précision de 0.17 avec un f1-score de 0.16.\n",
    "\n",
    "Dans le modèle Bayes Naïf utilisé, l’hyperparamètre max-depth possède une valeur de 20. Cette valeur a été choisie, car c’est celle qui donnait la meilleure précision lors de nos tests avec des valeurs différentes. Ce modèle a été utilisé sur l’ensemble de données “marsyas” et a retourné une précision de 0.12 avec un f1-score de 0.09.\n",
    "\n",
    "Le 3ème modèle utilisé est le KNN. Pour trouver les meilleurs hyperparamètres, le <<tuning>> a aussi été utilisé ici. La code a donc trouvé que la valeur optimale de k était de 10. Le modèle a été utilisé sur l’ensemble de données “rhythm-histogram” et a retourné une précision de 0.15 avec un f1-score de 0.15.\n",
    "\n",
    "\n",
    "**5. Présentez la conception de votre solution finale au problème (votre solution reposant sur la théorie des ensembles). Présentez ici le diagramme nécessaire afin de présenter convenablement votre combinaison de modèles, les ensembles de primitives choisies ainsi que la stratégie de combinaison. Faites une discussion expliquant vos décisions de conception. Faites des liens avec l’implémentation et présentez le code clé de celle-ci.**\n",
    "\n",
    "3 algorithmes ont été combinés pour créer l’ensemble. Ces 3 algorithmes sont Arbre de décision, KNN et Bayes. Ils sont été entraînés chacun avec des primitives différentes ainsi que des sous-ensembles différents. Il y a ensuite une combinaison linéaire de ces 3 modèles. Cette combinaison utilise la stratégie multi-experts, ce qui veut dire que chaque modèle calcule chaque entrée et indique la valeur de prédiction à la sortie. Il s’agit ensuite de vote pondéré pour déterminer la valeur acceptée de la sortie. Ce système de vote a été implémenté avec le VotingClassifier de la librairie sklearn. L’équipe a choisi d’utiliser une combinaison multi-experts, car c’était la combinaison linéaire la plus simple et la plus facile à tester. Il était donc facile de lui apporter des modifications.\n",
    "\n",
    "Le VotingClassifier a servi à combiner les différents algorithmes pour créer un ensemble. Une entrée est donc traitée par les 3 algorithmes et, selon le vote, ceux-ci déterminent la valeur de la sortie. Il réduit donc le taux de mauvaise classification, puisqu’il réduit les chances de prendre la mauvais classificateur.\n",
    "\n",
    "**6. Consignez dans un tableau les hyperparamètres finaux de vos modèles faisant partie de votre ensemble. Présentez le score de précision (accuracy) et F1 final de votre ensemble. Présentez une discussion faisant l’analyse des résultats de votre système final. Décrivez les problèmes et difficultés rencontrées. Décrivez les performances de votre ensemble et tentez d’expliquer ces résultats.**\n",
    "\n",
    "![image.png](attachment:image.png)\n",
    "\n",
    "L’ensemble obtenu présente une précision de 0.18 ce qui est bon étant donné qu’il y a 25 étiquettes différentes. Cet ensemble présente cependant une précision moindre à celle du modèle KNN seul. Cela est dû au fait que les 2 autres modèles ont aussi leur poids lors de l’attribution d’une étiquette à une donnée de test. Il y a ainsi des erreurs qui peuvent s’ajouter lors de la combinaison de plusieurs modèles. Par contre, sur un autre ensemble de test, il est possible que l’ensemble affiche une meilleure précision.\n",
    "\n",
    "Il a été difficile de configurer un graphique à l’aide de la librairie matplotlib qui représentait bien les données obtenues. Une autre difficulté rencontrée a été la limite de calcul de nos machines. À cause de ça, nous avons dû laisser de côté les algorithmes SVM ainsi que réseaux de neurones multi-couches. Ces algorithmes, bien que souvent ils affichent une précision très grande, étaient trop coûteux pour qu’on les utilise sur nos machines.\n",
    "\n",
    "**7. Formulez quelques pistes d’amélioration de la solution développée.**\n",
    "\n",
    "Il serait possible d’améliorer la solution en utilisant des modèles qui présentent une meilleure précision. Pour faire ça, il faudrait tester chaque modèle avec chaque ensemble de données disponible et trouver les meilleurs hyperparamètres dans chacun des cas. Il s’agirait ensuite de comparer la précision de chacun de ses modèles et combiner les 3 meilleurs. Cela dit, cette méthode donnerait un ensemble avec une très bonne précision, mais pas nécessairement celui avec la meilleure précision. Dans ce cas, il faudrait tester chaque combinaison de 3 avec tous les modèles obtenus.\n",
    "\n",
    "Une autre façon d’améliorer la solution serait d’augmenter le nombre de données dans les ensembles de données. Cela permettrait aux modèles de s’entraîner sur davantage d’exemples et donc d’avoir une meilleure compréhension des critères, des valeurs de ceux-ci ainsi que les étiquettes qui s’associent avec celles-ci.\n",
    "\n",
    "L’utilisation de Boosting aurait aussi pu être utilisé pour optimiser la performance du système. Dans ce laboratoire, il aurait été possible de l’appliquer et ainsi de réduire le temps de calcul du système.\n",
    "\n",
    "Finalement, davantage de prétraitement des données au départ permettrait aux modèles de s’entraîner sur des données qui sont plus faciles à analyser. De cette façon, la séparation entre les différentes données seraient plus claires et donc la précision des différents modèles augmenteraient du même coup.\n",
    "\n"
   ]
  }
 ],
 "metadata": {
  "kernelspec": {
   "display_name": "Python 3",
   "language": "python",
   "name": "python3"
  },
  "language_info": {
   "codemirror_mode": {
    "name": "ipython",
    "version": 3
   },
   "file_extension": ".py",
   "mimetype": "text/x-python",
   "name": "python",
   "nbconvert_exporter": "python",
   "pygments_lexer": "ipython3",
   "version": "3.6.5"
  }
 },
 "nbformat": 4,
 "nbformat_minor": 1
}
